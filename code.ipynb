{
 "cells": [
  {
   "cell_type": "code",
   "execution_count": 1,
   "metadata": {},
   "outputs": [
    {
     "name": "stdout",
     "output_type": "stream",
     "text": [
      "/bin/bash: /home/abhishek/miniconda3/lib/libtinfo.so.6: no version information available (required by /bin/bash)\n",
      "Requirement already satisfied: datasets in /home/abhishek/miniconda3/lib/python3.10/site-packages (2.10.0)\n",
      "Requirement already satisfied: dill<0.3.7,>=0.3.0 in /home/abhishek/miniconda3/lib/python3.10/site-packages (from datasets) (0.3.6)\n",
      "Requirement already satisfied: pyarrow>=6.0.0 in /home/abhishek/miniconda3/lib/python3.10/site-packages (from datasets) (11.0.0)\n",
      "Requirement already satisfied: huggingface-hub<1.0.0,>=0.2.0 in /home/abhishek/miniconda3/lib/python3.10/site-packages (from datasets) (0.13.2)\n",
      "Requirement already satisfied: numpy>=1.17 in /home/abhishek/miniconda3/lib/python3.10/site-packages (from datasets) (1.23.5)\n",
      "Requirement already satisfied: pyyaml>=5.1 in /home/abhishek/miniconda3/lib/python3.10/site-packages (from datasets) (6.0)\n",
      "Requirement already satisfied: tqdm>=4.62.1 in /home/abhishek/miniconda3/lib/python3.10/site-packages (from datasets) (4.64.1)\n",
      "Requirement already satisfied: requests>=2.19.0 in /home/abhishek/miniconda3/lib/python3.10/site-packages (from datasets) (2.28.1)\n",
      "Requirement already satisfied: multiprocess in /home/abhishek/miniconda3/lib/python3.10/site-packages (from datasets) (0.70.14)\n",
      "Requirement already satisfied: pandas in /home/abhishek/miniconda3/lib/python3.10/site-packages (from datasets) (1.5.3)\n",
      "Requirement already satisfied: xxhash in /home/abhishek/miniconda3/lib/python3.10/site-packages (from datasets) (3.2.0)\n",
      "Requirement already satisfied: packaging in /home/abhishek/miniconda3/lib/python3.10/site-packages (from datasets) (23.0)\n",
      "Requirement already satisfied: fsspec[http]>=2021.11.1 in /home/abhishek/miniconda3/lib/python3.10/site-packages (from datasets) (2023.1.0)\n",
      "Requirement already satisfied: responses<0.19 in /home/abhishek/miniconda3/lib/python3.10/site-packages (from datasets) (0.18.0)\n",
      "Requirement already satisfied: aiohttp in /home/abhishek/miniconda3/lib/python3.10/site-packages (from datasets) (3.8.4)\n",
      "Requirement already satisfied: aiosignal>=1.1.2 in /home/abhishek/miniconda3/lib/python3.10/site-packages (from aiohttp->datasets) (1.3.1)\n",
      "Requirement already satisfied: multidict<7.0,>=4.5 in /home/abhishek/miniconda3/lib/python3.10/site-packages (from aiohttp->datasets) (6.0.4)\n",
      "Requirement already satisfied: frozenlist>=1.1.1 in /home/abhishek/miniconda3/lib/python3.10/site-packages (from aiohttp->datasets) (1.3.3)\n",
      "Requirement already satisfied: attrs>=17.3.0 in /home/abhishek/miniconda3/lib/python3.10/site-packages (from aiohttp->datasets) (22.2.0)\n",
      "Requirement already satisfied: charset-normalizer<4.0,>=2.0 in /home/abhishek/miniconda3/lib/python3.10/site-packages (from aiohttp->datasets) (2.0.4)\n",
      "Requirement already satisfied: async-timeout<5.0,>=4.0.0a3 in /home/abhishek/miniconda3/lib/python3.10/site-packages (from aiohttp->datasets) (4.0.2)\n",
      "Requirement already satisfied: yarl<2.0,>=1.0 in /home/abhishek/miniconda3/lib/python3.10/site-packages (from aiohttp->datasets) (1.8.2)\n",
      "Requirement already satisfied: filelock in /home/abhishek/miniconda3/lib/python3.10/site-packages (from huggingface-hub<1.0.0,>=0.2.0->datasets) (3.7.1)\n",
      "Requirement already satisfied: typing-extensions>=3.7.4.3 in /home/abhishek/miniconda3/lib/python3.10/site-packages (from huggingface-hub<1.0.0,>=0.2.0->datasets) (4.4.0)\n",
      "Requirement already satisfied: idna<4,>=2.5 in /home/abhishek/miniconda3/lib/python3.10/site-packages (from requests>=2.19.0->datasets) (3.4)\n",
      "Requirement already satisfied: urllib3<1.27,>=1.21.1 in /home/abhishek/miniconda3/lib/python3.10/site-packages (from requests>=2.19.0->datasets) (1.26.14)\n",
      "Requirement already satisfied: certifi>=2017.4.17 in /home/abhishek/miniconda3/lib/python3.10/site-packages (from requests>=2.19.0->datasets) (2022.12.7)\n",
      "Requirement already satisfied: python-dateutil>=2.8.1 in /home/abhishek/miniconda3/lib/python3.10/site-packages (from pandas->datasets) (2.8.2)\n",
      "Requirement already satisfied: pytz>=2020.1 in /home/abhishek/miniconda3/lib/python3.10/site-packages (from pandas->datasets) (2022.7.1)\n",
      "Requirement already satisfied: six>=1.5 in /home/abhishek/miniconda3/lib/python3.10/site-packages (from python-dateutil>=2.8.1->pandas->datasets) (1.16.0)\n"
     ]
    }
   ],
   "source": [
    "!pip3 install datasets"
   ]
  },
  {
   "cell_type": "code",
   "execution_count": 4,
   "metadata": {},
   "outputs": [
    {
     "name": "stderr",
     "output_type": "stream",
     "text": [
      "Found cached dataset multi_nli (/home/abhishek/.cache/huggingface/datasets/multi_nli/default/0.0.0/591f72eb6263d1ab527561777936b199b714cda156d35716881158a2bd144f39)\n"
     ]
    }
   ],
   "source": [
    "from datasets import list_datasets, load_dataset\n",
    "from pprint import pprint\n",
    "\n",
    "# sst dataset\n",
    "\n",
    "# sst_valid = load_dataset('sst', split='test')\n",
    "# # convert to pandas dataframe\n",
    "# sst_valid_df = sst_valid.to_pandas()\n",
    "# # save to csv\n",
    "# sst_valid_df.to_csv('sst_test.csv', index=False)\n",
    "\n",
    "#multi_nli dataset\n",
    "\n",
    "multi_nli_train = load_dataset('multi_nli', split='validation_mismatched')\n",
    "# convert to pandas dataframe\n",
    "multi_nli_train_df = multi_nli_train.to_pandas()\n",
    "# save to csv\n",
    "multi_nli_train_df.to_csv('multi_nli_test.csv', index=False)\n",
    "\n"
   ]
  },
  {
   "cell_type": "code",
   "execution_count": 160,
   "metadata": {},
   "outputs": [],
   "source": [
    "# keep only the text and label column for sst dataset\n",
    "# load the csv file in pandas dataframe\n",
    "import pandas as pd \n",
    "\n",
    "sst_train_df = pd.read_csv('sst_train.csv')\n",
    "sst_valid_df = pd.read_csv('sst_valid.csv')\n",
    "sst_test_df = pd.read_csv('sst_test.csv')\n",
    "\n",
    "sst_train_df = sst_train_df[['sentence','label']]\n",
    "sst_valid_df = sst_valid_df[['sentence','label']]\n",
    "sst_test_df = sst_test_df[['sentence','label']]\n",
    "# save to csv\n",
    "sst_train_df.to_csv('sst_train.csv', index=False)\n",
    "sst_valid_df.to_csv('sst_valid.csv', index=False)\n",
    "sst_test_df.to_csv('sst_test.csv', index=False)\n"
   ]
  },
  {
   "cell_type": "code",
   "execution_count": 175,
   "metadata": {},
   "outputs": [],
   "source": [
    "def change_label(x):\n",
    "    if x<=0.5:\n",
    "        return 0\n",
    "    else:\n",
    "        return 1\n",
    "        "
   ]
  },
  {
   "cell_type": "code",
   "execution_count": 176,
   "metadata": {},
   "outputs": [],
   "source": [
    "# in sst_split change the labels according to threshold, divide them into 3 classes\n",
    "# 0 - negative, 1 - neutral, 2 - positive\n",
    "import pandas as pd\n",
    "\n",
    "sst_train_df = pd.read_csv('sst_train.csv')\n",
    "sst_valid_df = pd.read_csv('sst_valid.csv')\n",
    "sst_test_df = pd.read_csv('sst_test.csv')\n",
    "\n",
    "sst_train_df['label'] = sst_train_df['label'].apply(change_label)\n",
    "sst_valid_df['label'] = sst_valid_df['label'].apply(change_label)\n",
    "sst_test_df['label'] = sst_test_df['label'].apply(change_label)\n",
    "\n",
    "\n",
    "sst_train_df.to_csv('sst_train_label.csv', index=False)\n",
    "sst_valid_df.to_csv('sst_valid_label.csv', index=False)\n",
    "sst_test_df.to_csv('sst_test_label.csv', index=False)"
   ]
  },
  {
   "cell_type": "code",
   "execution_count": 11,
   "metadata": {},
   "outputs": [],
   "source": [
    "# multi_nli dataset\n",
    "# keep premise and label \n",
    "import pandas as pd \n",
    "multi_nli_train_df = pd.read_csv('multi_nli_test.csv')\n",
    "\n",
    "# multi_nli_train_df = multi_nli_train_df[['premise','hypothesis','label']]\n",
    "\n",
    "# multi_nli_train_df.to_csv('multi_nli_valid.csv', index=False)\n",
    "\n",
    "# premise + hypothesis = sentence\n",
    "multi_nli_train_df['sentence'] = multi_nli_train_df['premise'] + ' ' + multi_nli_train_df['hypothesis']\n",
    "multi_nli_train_df = multi_nli_train_df[['sentence','label']]\n",
    "multi_nli_train_df.to_csv('multi_nli_test.csv', index=False)\n"
   ]
  },
  {
   "cell_type": "code",
   "execution_count": 21,
   "metadata": {},
   "outputs": [],
   "source": [
    "multi_nli_train_df = pd.read_csv('multi_nli_valid.csv')\n",
    "# if sentence is empty, drop it\n",
    "multi_nli_train_df = multi_nli_train_df.dropna()\n",
    "multi_nli_train_df.to_csv('multi_nli_valid.csv', index=False)\n"
   ]
  },
  {
   "cell_type": "code",
   "execution_count": 1,
   "metadata": {},
   "outputs": [
    {
     "name": "stdout",
     "output_type": "stream",
     "text": [
      "cuda\n"
     ]
    }
   ],
   "source": [
    "import torch \n",
    "device = torch.device(\"cuda\" if torch.cuda.is_available() else \"cpu\")\n",
    "print(device)"
   ]
  },
  {
   "cell_type": "code",
   "execution_count": 2,
   "metadata": {},
   "outputs": [
    {
     "name": "stderr",
     "output_type": "stream",
     "text": [
      "Preprocessing: 100%|██████████| 25224/25224 [00:08<00:00, 2823.16it/s]\n"
     ]
    },
    {
     "name": "stdout",
     "output_type": "stream",
     "text": [
      "(25224, 2)\n"
     ]
    },
    {
     "name": "stderr",
     "output_type": "stream",
     "text": [
      "Tokenising and Padding:   0%|          | 0/25224 [00:00<?, ?it/s]/tmp/ipykernel_187639/395167919.py:100: SettingWithCopyWarning: \n",
      "A value is trying to be set on a copy of a slice from a DataFrame\n",
      "\n",
      "See the caveats in the documentation: https://pandas.pydata.org/pandas-docs/stable/user_guide/indexing.html#returning-a-view-versus-a-copy\n",
      "  data['sentence'][i] = tokens\n",
      "Tokenising and Padding: 100%|██████████| 25224/25224 [00:22<00:00, 1144.60it/s]\n"
     ]
    },
    {
     "name": "stdout",
     "output_type": "stream",
     "text": [
      "(9815, 2)\n"
     ]
    },
    {
     "name": "stderr",
     "output_type": "stream",
     "text": [
      "Tokenising and Padding:   0%|          | 0/9815 [00:00<?, ?it/s]/tmp/ipykernel_187639/395167919.py:100: SettingWithCopyWarning: \n",
      "A value is trying to be set on a copy of a slice from a DataFrame\n",
      "\n",
      "See the caveats in the documentation: https://pandas.pydata.org/pandas-docs/stable/user_guide/indexing.html#returning-a-view-versus-a-copy\n",
      "  data['sentence'][i] = tokens\n",
      "Tokenising and Padding: 100%|██████████| 9815/9815 [00:09<00:00, 1003.57it/s]\n"
     ]
    },
    {
     "name": "stdout",
     "output_type": "stream",
     "text": [
      "(9832, 2)\n"
     ]
    },
    {
     "name": "stderr",
     "output_type": "stream",
     "text": [
      "Tokenising and Padding:   0%|          | 0/9832 [00:00<?, ?it/s]/tmp/ipykernel_187639/395167919.py:100: SettingWithCopyWarning: \n",
      "A value is trying to be set on a copy of a slice from a DataFrame\n",
      "\n",
      "See the caveats in the documentation: https://pandas.pydata.org/pandas-docs/stable/user_guide/indexing.html#returning-a-view-versus-a-copy\n",
      "  data['sentence'][i] = tokens\n",
      "Tokenising and Padding: 100%|██████████| 9832/9832 [00:11<00:00, 833.46it/s] \n"
     ]
    }
   ],
   "source": [
    "import pandas as pd\n",
    "import nltk\n",
    "from nltk.corpus import stopwords\n",
    "from nltk.tokenize import word_tokenize\n",
    "from nltk.stem import PorterStemmer\n",
    "import string\n",
    "import torch\n",
    "from torch.utils.data import Dataset\n",
    "from tqdm import tqdm\n",
    "\n",
    "class PreProcessing():\n",
    "    def __init__(self,filePath,savePath,minFreq):\n",
    "        self.filePath = filePath\n",
    "        self.savePath = savePath\n",
    "        self.minFreq = minFreq\n",
    "        self.word2idx = {}\n",
    "        self.idx2word = {}\n",
    "        self.word2count = {}\n",
    "        self.vocab = []\n",
    "        self.vocabSize = 0\n",
    "        self.word2idx['<PAD>'] = 0\n",
    "        self.word2idx['<UNK>'] = 1\n",
    "        self.idx2word[0] = '<PAD>'\n",
    "        self.idx2word[1] = '<UNK>'\n",
    "        self.vocabSize = 2\n",
    "        self.word2count['<PAD>'] = 0\n",
    "        self.word2count['<UNK>'] = 0\n",
    "        self.vocab.append('<PAD>')\n",
    "        self.vocab.append('<UNK>')\n",
    "        self.tokens = []\n",
    "        self.label = []\n",
    "        self.removeWords()\n",
    "\n",
    "\n",
    "    def removeWords(self):\n",
    "\n",
    "        stop_words = set(stopwords.words('english'))\n",
    "        punctuations = set(string.punctuation)\n",
    "        ps = PorterStemmer()\n",
    "        data = pd.read_csv(self.filePath)\n",
    "\n",
    "        preProcessedData = []\n",
    "        for sentence in tqdm(data['sentence'],desc='Preprocessing'):\n",
    "            tokens = word_tokenize(sentence)\n",
    "            filtered_tokens = [token.lower() for token in tokens if token not in stop_words and token not in punctuations]\n",
    "            preProcessed_sentence = ' '.join(filtered_tokens)\n",
    "            preProcessedData.append(preProcessed_sentence)\n",
    "\n",
    "\n",
    "        word_counts = {}\n",
    "        for sentence in preProcessedData:\n",
    "            tokens = word_tokenize(sentence)\n",
    "            for token in tokens:\n",
    "                if token not in word_counts:\n",
    "                    word_counts[token] = 1\n",
    "                else:\n",
    "                    word_counts[token] += 1\n",
    "\n",
    "        for word,count in word_counts.items():\n",
    "            if count >= self.minFreq:\n",
    "                self.word2idx[word] = self.vocabSize\n",
    "                self.word2count[word] = count\n",
    "                self.idx2word[self.vocabSize] = word\n",
    "                self.vocabSize += 1\n",
    "                self.vocab.append(word)\n",
    "\n",
    "\n",
    "\n",
    "class GetDatasets(Dataset):\n",
    "    def __init__(self,filePath,vocab,word2idx,pad):\n",
    "        self.filePath = filePath\n",
    "        self.vocab = vocab\n",
    "        self.word2idx = word2idx\n",
    "        self.tokens = []\n",
    "        self.label = []\n",
    "        self.pad = pad\n",
    "        self.forward_data = []\n",
    "        self.backward_data = []\n",
    "\n",
    "        data = pd.read_csv(self.filePath)\n",
    "        maxLen = 0\n",
    "        print(data.shape)\n",
    "        for sentence in data['sentence']:\n",
    "\n",
    "            tokens = word_tokenize(sentence)\n",
    "            if len(tokens) > maxLen:\n",
    "                maxLen = len(tokens)\n",
    "        for i in tqdm(range(data.shape[0]),desc='Tokenising and Padding'):\n",
    "            sentence = data['sentence'][i]\n",
    "            tokens = word_tokenize(sentence)\n",
    "            for j in range(len(tokens)):\n",
    "                if tokens[j] in self.word2idx:\n",
    "                    tokens[j] = self.word2idx[tokens[j]]\n",
    "                else:\n",
    "                    tokens[j] = self.word2idx['<UNK>']\n",
    "\n",
    "            if self.pad:\n",
    "                tokens.extend([self.word2idx['<PAD>']]*(maxLen-len(tokens)))\n",
    "\n",
    "            data['sentence'][i] = tokens\n",
    "            self.tokens.append(tokens)\n",
    "            self.label.append(data['label'][i])\n",
    "            self.forward_data.append(tokens[1:])\n",
    "            self.backward_data.append(tokens[:-1])\n",
    "            \n",
    "\n",
    "\n",
    "        self.label = torch.tensor(self.label)\n",
    "        self.tokens = torch.tensor(self.tokens)\n",
    "        self.forward_data = torch.tensor(self.forward_data)\n",
    "        self.backward_data = torch.tensor(self.backward_data)\n",
    "\n",
    "\n",
    "    def __getitem__(self, index):\n",
    "        return self.tokens[index], self.label[index],self.forward_data[index],self.backward_data[index]\n",
    "\n",
    "    def __len__(self):\n",
    "        return self.tokens.shape[0]\n",
    "\n",
    "\n",
    "# preProcessing = PreProcessing('sst_train_label.csv', 'sst_train_label.csv', 4)\n",
    "# train_data = GetDatasets('sst_train_label.csv',\n",
    "#                          preProcessing.vocab, preProcessing.word2idx, True)\n",
    "# valid_data = GetDatasets('sst_valid_label.csv',\n",
    "#                          preProcessing.vocab, preProcessing.word2idx, True)\n",
    "# test_data = GetDatasets('sst_test_label.csv',\n",
    "#                         preProcessing.vocab, preProcessing.word2idx, True)\n",
    "\n",
    "# do for multi_nli dataset\n",
    "preProcessing = PreProcessing('multi_nli_train.csv','multi_nli_train.csv',5)\n",
    "train_data = GetDatasets('multi_nli_train.csv',preProcessing.vocab,preProcessing.word2idx,True)\n",
    "valid_data = GetDatasets('multi_nli_valid.csv',preProcessing.vocab,preProcessing.word2idx,True)\n",
    "test_data = GetDatasets('multi_nli_test.csv',   \n",
    "                        preProcessing.vocab, preProcessing.word2idx, True)\n",
    "\n",
    "    \n"
   ]
  },
  {
   "cell_type": "code",
   "execution_count": 5,
   "metadata": {},
   "outputs": [],
   "source": [
    "VOCAB_SIZE = preProcessing.vocabSize\n",
    "BATCH_SIZE = 16\n",
    "EMBEDDING_DIM = 300\n",
    "HIDDEN_DIM = 100\n",
    "    "
   ]
  },
  {
   "cell_type": "code",
   "execution_count": 6,
   "metadata": {},
   "outputs": [],
   "source": [
    "train_dataloader = torch.utils.data.DataLoader(\n",
    "    train_data, batch_size=BATCH_SIZE, shuffle=False)\n",
    "valid_dataloader = torch.utils.data.DataLoader(\n",
    "    valid_data, batch_size=BATCH_SIZE, shuffle=False)\n",
    "test_dataloader = torch.utils.data.DataLoader(test_data, batch_size=BATCH_SIZE, shuffle=False)\n"
   ]
  },
  {
   "cell_type": "code",
   "execution_count": 5,
   "metadata": {},
   "outputs": [],
   "source": [
    "tokens_test, label_test, forward_data_test, backward_data_test = next(iter(test_dataloader))"
   ]
  },
  {
   "cell_type": "code",
   "execution_count": 9,
   "metadata": {},
   "outputs": [],
   "source": [
    "# load the glove embeddings\n",
    "import numpy as np \n",
    "glove_file = './glove.6B/glove.6B.300d.txt'\n",
    "glove_dict = {}\n",
    "with open(glove_file, 'r',encoding = 'utf-8') as f:\n",
    "    for line in f:\n",
    "        tokens = line.strip().split(' ')\n",
    "        word = tokens[0]\n",
    "        embedding = np.array([float(val) for val in tokens[1:]])\n",
    "        glove_dict[word] = embedding\n",
    "\n",
    "# UNK and PAD embedding\n",
    "UNK_emb = np.mean(list(glove_dict.values()), axis=0)\n",
    "PAD_emb = np.zeros(300)\n"
   ]
  },
  {
   "cell_type": "code",
   "execution_count": 10,
   "metadata": {},
   "outputs": [
    {
     "name": "stdout",
     "output_type": "stream",
     "text": [
      "400000\n",
      "10296\n"
     ]
    }
   ],
   "source": [
    "import torch\n",
    "import torch.nn as nn\n",
    "import tqdm\n",
    "\n",
    "print(len(glove_dict))\n",
    "cnt = 0\n",
    "\n",
    "vocab = preProcessing.vocab\n",
    "embeddings = []\n",
    "for word in vocab:\n",
    "    if word == '<UNK>':\n",
    "        embeddings.append(UNK_emb)\n",
    "    elif word == '<PAD>':\n",
    "        embeddings.append(PAD_emb)\n",
    "    elif word in glove_dict:\n",
    "        cnt += 1\n",
    "        embeddings.append(glove_dict[word])\n",
    "    else:\n",
    "        emb = np.random.uniform(-0.25,0.25,300)\n",
    "        embeddings.append(emb)\n",
    "    \n",
    "\n",
    "print(cnt)\n"
   ]
  },
  {
   "cell_type": "code",
   "execution_count": 11,
   "metadata": {},
   "outputs": [
    {
     "name": "stdout",
     "output_type": "stream",
     "text": [
      "torch.Size([10394, 300])\n"
     ]
    },
    {
     "name": "stderr",
     "output_type": "stream",
     "text": [
      "/tmp/ipykernel_182920/1509447340.py:1: UserWarning: Creating a tensor from a list of numpy.ndarrays is extremely slow. Please consider converting the list to a single numpy.ndarray with numpy.array() before converting to a tensor. (Triggered internally at ../torch/csrc/utils/tensor_new.cpp:245.)\n",
      "  embeddings = torch.tensor(embeddings, dtype=torch.float)\n"
     ]
    }
   ],
   "source": [
    "embeddings = torch.tensor(embeddings, dtype=torch.float)\n",
    "# embeddings = torch.stack(embeddings)\n",
    "embedding = nn.Embedding.from_pretrained(\n",
    "    embeddings, freeze=False, padding_idx=0)\n",
    "\n",
    "print(embedding.weight.shape)\n",
    "# save the embedding\n",
    "torch.save(embedding, 'embeddings2.pt')\n"
   ]
  },
  {
   "cell_type": "code",
   "execution_count": 7,
   "metadata": {},
   "outputs": [],
   "source": [
    "# laod from pickle \n",
    "import pickle \n",
    "embeddings = torch.load('embeddings2.pt')"
   ]
  },
  {
   "cell_type": "code",
   "execution_count": 9,
   "metadata": {},
   "outputs": [],
   "source": [
    "import torch\n",
    "import torch.nn as nn\n",
    "import torch.nn.functional as F\n",
    "import torch.optim as optim\n"
   ]
  },
  {
   "cell_type": "code",
   "execution_count": 10,
   "metadata": {},
   "outputs": [],
   "source": [
    "class ELMo(nn.Module):\n",
    "    def __init__(self, vocab_size, embedding_dim, hidden_dim, batch_size, embedding_matrix):\n",
    "        super(ELMo, self).__init__()\n",
    "        self.vocab_size = vocab_size\n",
    "        self.embedding_dim = embedding_dim\n",
    "        self.hidden_dim = hidden_dim\n",
    "        self.batch_size = batch_size\n",
    "        self.embedding = embedding_matrix\n",
    "        self.embedding.weight = nn.Parameter(\n",
    "            self.embedding.weight, requires_grad=True)\n",
    "        self.lstm1 = nn.LSTM(embedding_dim, hidden_dim,\n",
    "                             batch_first=True, bidirectional=True)\n",
    "        self.lstm2 = nn.LSTM(hidden_dim*2, hidden_dim,\n",
    "                             batch_first=True, bidirectional=True)\n",
    "        self.linear1 = nn.Linear(embedding_dim, hidden_dim)\n",
    "        self.linear_out = nn.Linear(hidden_dim*2, vocab_size)\n",
    "\n",
    "    def forward(self, back_data):\n",
    "        back_embed = self.embedding(back_data)\n",
    "        back_lstm1, _ = self.lstm1(back_embed)\n",
    "        back_lstm2, _ = self.lstm2(back_lstm1)\n",
    "        linear_out = self.linear_out(back_lstm2)\n",
    "        return linear_out\n"
   ]
  },
  {
   "cell_type": "code",
   "execution_count": 12,
   "metadata": {},
   "outputs": [
    {
     "name": "stdout",
     "output_type": "stream",
     "text": [
      "ELMo(\n",
      "  (embedding): Embedding(10394, 300, padding_idx=0)\n",
      "  (lstm1): LSTM(300, 100, batch_first=True, bidirectional=True)\n",
      "  (lstm2): LSTM(200, 100, batch_first=True, bidirectional=True)\n",
      "  (linear1): Linear(in_features=300, out_features=100, bias=True)\n",
      "  (linear_out): Linear(in_features=200, out_features=10394, bias=True)\n",
      ")\n"
     ]
    },
    {
     "data": {
      "text/plain": [
       "ELMo(\n",
       "  (embedding): Embedding(10394, 300, padding_idx=0)\n",
       "  (lstm1): LSTM(300, 100, batch_first=True, bidirectional=True)\n",
       "  (lstm2): LSTM(200, 100, batch_first=True, bidirectional=True)\n",
       "  (linear1): Linear(in_features=300, out_features=100, bias=True)\n",
       "  (linear_out): Linear(in_features=200, out_features=10394, bias=True)\n",
       ")"
      ]
     },
     "execution_count": 12,
     "metadata": {},
     "output_type": "execute_result"
    }
   ],
   "source": [
    "elmo = ELMo(VOCAB_SIZE, EMBEDDING_DIM, HIDDEN_DIM, BATCH_SIZE, embeddings)\n",
    "print(elmo)\n",
    "elmo.to(device)"
   ]
  },
  {
   "cell_type": "code",
   "execution_count": 13,
   "metadata": {},
   "outputs": [
    {
     "name": "stdout",
     "output_type": "stream",
     "text": [
      "Epoch:  0\n"
     ]
    },
    {
     "name": "stderr",
     "output_type": "stream",
     "text": [
      "Training:  63%|██████▎   | 1000/1577 [04:22<02:42,  3.54it/s]"
     ]
    },
    {
     "name": "stdout",
     "output_type": "stream",
     "text": [
      "Iteration:  1000 Train Loss:  4.052580119371414\n"
     ]
    },
    {
     "name": "stderr",
     "output_type": "stream",
     "text": [
      "Training: 100%|██████████| 1577/1577 [07:37<00:00,  3.44it/s]\n",
      "Validating:  82%|████████▏ | 501/614 [00:46<00:10, 10.80it/s]"
     ]
    },
    {
     "name": "stdout",
     "output_type": "stream",
     "text": [
      "Iteration:  500 Validation Loss:  1.7731063113212586\n"
     ]
    },
    {
     "name": "stderr",
     "output_type": "stream",
     "text": [
      "Validating: 100%|██████████| 614/614 [00:57<00:00, 10.75it/s]\n"
     ]
    },
    {
     "name": "stdout",
     "output_type": "stream",
     "text": [
      "Train Loss:  3.361974797448404 Valid Loss:  1.772004680835463\n",
      "Epoch:  1\n"
     ]
    },
    {
     "name": "stderr",
     "output_type": "stream",
     "text": [
      "Training:  63%|██████▎   | 1000/1577 [05:57<02:58,  3.23it/s]"
     ]
    },
    {
     "name": "stdout",
     "output_type": "stream",
     "text": [
      "Iteration:  1000 Train Loss:  1.4833122106790542\n"
     ]
    },
    {
     "name": "stderr",
     "output_type": "stream",
     "text": [
      "Training: 100%|██████████| 1577/1577 [09:35<00:00,  2.74it/s]\n",
      "Validating:  82%|████████▏ | 502/614 [00:50<00:10, 10.62it/s]"
     ]
    },
    {
     "name": "stdout",
     "output_type": "stream",
     "text": [
      "Iteration:  500 Validation Loss:  0.8355827458500862\n"
     ]
    },
    {
     "name": "stderr",
     "output_type": "stream",
     "text": [
      "Validating: 100%|██████████| 614/614 [01:00<00:00, 10.08it/s]\n"
     ]
    },
    {
     "name": "stdout",
     "output_type": "stream",
     "text": [
      "Train Loss:  1.3108257232546883 Valid Loss:  0.8362675080567307\n",
      "Epoch:  2\n"
     ]
    },
    {
     "name": "stderr",
     "output_type": "stream",
     "text": [
      "Training:  63%|██████▎   | 1000/1577 [06:07<03:11,  3.02it/s]"
     ]
    },
    {
     "name": "stdout",
     "output_type": "stream",
     "text": [
      "Iteration:  1000 Train Loss:  0.7126220746040344\n"
     ]
    },
    {
     "name": "stderr",
     "output_type": "stream",
     "text": [
      "Training: 100%|██████████| 1577/1577 [09:37<00:00,  2.73it/s]\n",
      "Validating:  82%|████████▏ | 502/614 [00:48<00:09, 11.49it/s]"
     ]
    },
    {
     "name": "stdout",
     "output_type": "stream",
     "text": [
      "Iteration:  500 Validation Loss:  0.3990166934728622\n"
     ]
    },
    {
     "name": "stderr",
     "output_type": "stream",
     "text": [
      "Validating: 100%|██████████| 614/614 [00:58<00:00, 10.49it/s]\n"
     ]
    },
    {
     "name": "stdout",
     "output_type": "stream",
     "text": [
      "Train Loss:  0.6281970211918322 Valid Loss:  0.3996662477377183\n",
      "Epoch:  3\n"
     ]
    },
    {
     "name": "stderr",
     "output_type": "stream",
     "text": [
      "Training:  63%|██████▎   | 1000/1577 [06:14<03:24,  2.82it/s]"
     ]
    },
    {
     "name": "stdout",
     "output_type": "stream",
     "text": [
      "Iteration:  1000 Train Loss:  0.33300331796705723\n"
     ]
    },
    {
     "name": "stderr",
     "output_type": "stream",
     "text": [
      "Training: 100%|██████████| 1577/1577 [09:54<00:00,  2.65it/s]\n",
      "Validating:  81%|████████▏ | 500/614 [00:56<00:12,  9.16it/s]"
     ]
    },
    {
     "name": "stdout",
     "output_type": "stream",
     "text": [
      "Iteration:  500 Validation Loss:  0.19104647497832775\n"
     ]
    },
    {
     "name": "stderr",
     "output_type": "stream",
     "text": [
      "Validating: 100%|██████████| 614/614 [01:08<00:00,  8.92it/s]\n"
     ]
    },
    {
     "name": "stdout",
     "output_type": "stream",
     "text": [
      "Train Loss:  0.2925741758549523 Valid Loss:  0.19144915902216583\n",
      "Epoch:  4\n"
     ]
    },
    {
     "name": "stderr",
     "output_type": "stream",
     "text": [
      "Training:  63%|██████▎   | 1000/1577 [06:25<04:17,  2.24it/s]"
     ]
    },
    {
     "name": "stdout",
     "output_type": "stream",
     "text": [
      "Iteration:  1000 Train Loss:  0.14857424325868487\n"
     ]
    },
    {
     "name": "stderr",
     "output_type": "stream",
     "text": [
      "Training: 100%|██████████| 1577/1577 [10:07<00:00,  2.60it/s]\n",
      "Validating:  81%|████████▏ | 500/614 [00:55<00:10, 10.80it/s]"
     ]
    },
    {
     "name": "stdout",
     "output_type": "stream",
     "text": [
      "Iteration:  500 Validation Loss:  0.09733067148923874\n"
     ]
    },
    {
     "name": "stderr",
     "output_type": "stream",
     "text": [
      "Validating: 100%|██████████| 614/614 [01:09<00:00,  8.84it/s]\n"
     ]
    },
    {
     "name": "stdout",
     "output_type": "stream",
     "text": [
      "Train Loss:  0.13112304831182345 Valid Loss:  0.09765873766877364\n",
      "Epoch:  5\n"
     ]
    },
    {
     "name": "stderr",
     "output_type": "stream",
     "text": [
      "Training:  63%|██████▎   | 1000/1577 [06:10<03:35,  2.68it/s]"
     ]
    },
    {
     "name": "stdout",
     "output_type": "stream",
     "text": [
      "Iteration:  1000 Train Loss:  0.06647117310389876\n"
     ]
    },
    {
     "name": "stderr",
     "output_type": "stream",
     "text": [
      "Training: 100%|██████████| 1577/1577 [09:21<00:00,  2.81it/s]\n",
      "Validating:  82%|████████▏ | 502/614 [00:48<00:09, 12.00it/s]"
     ]
    },
    {
     "name": "stdout",
     "output_type": "stream",
     "text": [
      "Iteration:  500 Validation Loss:  0.055183960914611814\n"
     ]
    },
    {
     "name": "stderr",
     "output_type": "stream",
     "text": [
      "Validating: 100%|██████████| 614/614 [00:58<00:00, 10.45it/s]\n"
     ]
    },
    {
     "name": "stdout",
     "output_type": "stream",
     "text": [
      "Train Loss:  0.05917614656716075 Valid Loss:  0.055352301773666755\n",
      "Epoch:  6\n"
     ]
    },
    {
     "name": "stderr",
     "output_type": "stream",
     "text": [
      "Training:  63%|██████▎   | 1000/1577 [05:47<03:36,  2.66it/s]"
     ]
    },
    {
     "name": "stdout",
     "output_type": "stream",
     "text": [
      "Iteration:  1000 Train Loss:  0.031201272130012513\n"
     ]
    },
    {
     "name": "stderr",
     "output_type": "stream",
     "text": [
      "Training: 100%|██████████| 1577/1577 [09:39<00:00,  2.72it/s]\n",
      "Validating:  81%|████████▏ | 500/614 [00:54<00:10, 11.08it/s]"
     ]
    },
    {
     "name": "stdout",
     "output_type": "stream",
     "text": [
      "Iteration:  500 Validation Loss:  0.03476123230718076\n"
     ]
    },
    {
     "name": "stderr",
     "output_type": "stream",
     "text": [
      "Validating: 100%|██████████| 614/614 [01:05<00:00,  9.36it/s]\n"
     ]
    },
    {
     "name": "stdout",
     "output_type": "stream",
     "text": [
      "Train Loss:  0.028185525038276642 Valid Loss:  0.03490119182022367\n",
      "Epoch:  7\n"
     ]
    },
    {
     "name": "stderr",
     "output_type": "stream",
     "text": [
      "Training:  63%|██████▎   | 1000/1577 [04:52<02:34,  3.74it/s]"
     ]
    },
    {
     "name": "stdout",
     "output_type": "stream",
     "text": [
      "Iteration:  1000 Train Loss:  0.01602744391700253\n"
     ]
    },
    {
     "name": "stderr",
     "output_type": "stream",
     "text": [
      "Training: 100%|██████████| 1577/1577 [07:27<00:00,  3.53it/s]\n",
      "Validating:  82%|████████▏ | 502/614 [00:38<00:08, 13.13it/s]"
     ]
    },
    {
     "name": "stdout",
     "output_type": "stream",
     "text": [
      "Iteration:  500 Validation Loss:  0.023104527837596835\n"
     ]
    },
    {
     "name": "stderr",
     "output_type": "stream",
     "text": [
      "Validating: 100%|██████████| 614/614 [00:46<00:00, 13.11it/s]\n"
     ]
    },
    {
     "name": "stdout",
     "output_type": "stream",
     "text": [
      "Train Loss:  0.014578892044591929 Valid Loss:  0.023317882173060644\n",
      "Epoch:  8\n"
     ]
    },
    {
     "name": "stderr",
     "output_type": "stream",
     "text": [
      "Training:  63%|██████▎   | 1000/1577 [04:25<02:21,  4.07it/s]"
     ]
    },
    {
     "name": "stdout",
     "output_type": "stream",
     "text": [
      "Iteration:  1000 Train Loss:  0.008252783900825306\n"
     ]
    },
    {
     "name": "stderr",
     "output_type": "stream",
     "text": [
      "Training: 100%|██████████| 1577/1577 [06:59<00:00,  3.76it/s]\n",
      "Validating:  82%|████████▏ | 502/614 [00:39<00:08, 12.81it/s]"
     ]
    },
    {
     "name": "stdout",
     "output_type": "stream",
     "text": [
      "Iteration:  500 Validation Loss:  0.016938646108377725\n"
     ]
    },
    {
     "name": "stderr",
     "output_type": "stream",
     "text": [
      "Validating: 100%|██████████| 614/614 [00:48<00:00, 12.70it/s]\n"
     ]
    },
    {
     "name": "stdout",
     "output_type": "stream",
     "text": [
      "Train Loss:  0.007629050060896441 Valid Loss:  0.017159824355896743\n",
      "Epoch:  9\n"
     ]
    },
    {
     "name": "stderr",
     "output_type": "stream",
     "text": [
      "Training:  63%|██████▎   | 1000/1577 [04:37<02:29,  3.85it/s]"
     ]
    },
    {
     "name": "stdout",
     "output_type": "stream",
     "text": [
      "Iteration:  1000 Train Loss:  0.004662436975515448\n"
     ]
    },
    {
     "name": "stderr",
     "output_type": "stream",
     "text": [
      "Training: 100%|██████████| 1577/1577 [07:12<00:00,  3.64it/s]\n",
      "Validating:  82%|████████▏ | 502/614 [00:38<00:08, 12.91it/s]"
     ]
    },
    {
     "name": "stdout",
     "output_type": "stream",
     "text": [
      "Iteration:  500 Validation Loss:  0.013555558792781084\n"
     ]
    },
    {
     "name": "stderr",
     "output_type": "stream",
     "text": [
      "Validating: 100%|██████████| 614/614 [00:47<00:00, 12.92it/s]"
     ]
    },
    {
     "name": "stdout",
     "output_type": "stream",
     "text": [
      "Train Loss:  0.004420157069737208 Valid Loss:  0.013795549054523924\n"
     ]
    },
    {
     "name": "stderr",
     "output_type": "stream",
     "text": [
      "\n"
     ]
    }
   ],
   "source": [
    "from tqdm import tqdm\n",
    "import torch.optim as optim\n",
    "import torch.nn as nn\n",
    "import torch\n",
    "\n",
    "def train_epoch(model, train_dataloader, optimizer, criterion):\n",
    "    model.train()\n",
    "    total_loss = 0\n",
    "    iter = 0\n",
    "    for (tokens, label, forward, backward) in tqdm(train_dataloader, desc='Training'):\n",
    "        forward = forward.to(device)\n",
    "        backward = backward.to(device)\n",
    "        optimizer.zero_grad()\n",
    "        output = model(backward)\n",
    "        loss = criterion(output.view(-1, VOCAB_SIZE), forward.view(-1))\n",
    "        loss.backward()\n",
    "        optimizer.step()\n",
    "        total_loss += loss.item()\n",
    "        iter += 1\n",
    "        if iter%1000 == 0:\n",
    "            print('Iteration: ', iter, 'Train Loss: ', total_loss/iter)\n",
    "    return total_loss/len(train_dataloader)\n",
    "\n",
    "def validate_epoch(model, valid_dataloader, criterion):\n",
    "    model.eval()\n",
    "    total_loss = 0\n",
    "    iter = 0\n",
    "    with torch.no_grad():\n",
    "        for (tokens, label, forward, backward) in tqdm(valid_dataloader, desc='Validating'):\n",
    "            forward = forward.to(device)\n",
    "            backward = backward.to(device)\n",
    "            output = model(backward)\n",
    "            loss = criterion(output.view(-1, VOCAB_SIZE), forward.view(-1))\n",
    "            total_loss += loss.item()\n",
    "            iter += 1\n",
    "            if iter%500 == 0:\n",
    "                print('Iteration: ', iter, 'Validation Loss: ', total_loss/iter)\n",
    "    return total_loss/len(valid_dataloader)\n",
    "\n",
    "def train_model(model, train_dataloader, valid_dataloader, optimizer, criterion, epochs):\n",
    "    best_valid_loss = float('inf')\n",
    "    losses = {'epoch': [], 'train_loss': [], 'valid_loss': []}\n",
    "    for epoch in range(epochs):\n",
    "        print('Epoch: ', epoch)\n",
    "        train_loss = train_epoch(model, train_dataloader, optimizer, criterion)\n",
    "        valid_loss = validate_epoch(model, valid_dataloader, criterion)\n",
    "        print('Train Loss: ', train_loss, 'Valid Loss: ', valid_loss)\n",
    "        losses['epoch'].append(epoch)\n",
    "        losses['train_loss'].append(train_loss)\n",
    "        losses['valid_loss'].append(valid_loss)\n",
    "        if valid_loss < best_valid_loss:\n",
    "            best_valid_loss = valid_loss\n",
    "            # torch.save(model.state_dict(), 'elmo_model1.pt')\n",
    "            # print('Model saved')\n",
    "    return losses\n",
    "\n",
    "optimizer = optim.Adam(elmo.parameters(), lr=0.001)\n",
    "criterion = nn.CrossEntropyLoss(ignore_index=0)\n",
    "losses = train_model(elmo, train_dataloader, valid_dataloader, optimizer, criterion, 10)\n"
   ]
  },
  {
   "cell_type": "code",
   "execution_count": 14,
   "metadata": {},
   "outputs": [],
   "source": [
    "torch.save(elmo.state_dict(), 'elmo_model2.pt')"
   ]
  },
  {
   "cell_type": "code",
   "execution_count": 15,
   "metadata": {},
   "outputs": [
    {
     "data": {
      "image/png": "[encoded data removed]",
      "text/plain": [
       "<Figure size 640x480 with 1 Axes>"
      ]
     },
     "metadata": {},
     "output_type": "display_data"
    },
    {
     "data": {
      "text/plain": [
       "<Figure size 640x480 with 0 Axes>"
      ]
     },
     "metadata": {},
     "output_type": "display_data"
    }
   ],
   "source": [
    "from matplotlib import pyplot as plt\n",
    "plt.plot(losses['epoch'], losses['train_loss'], label='train')\n",
    "plt.plot(losses['epoch'], losses['valid_loss'], label='valid')\n",
    "# mark with circle \n",
    "plt.scatter(losses['epoch'], losses['train_loss'], label='train')\n",
    "plt.scatter(losses['epoch'], losses['valid_loss'], label='valid')\n",
    "plt.title('ELMo Loss')\n",
    "plt.xlabel('Epoch')\n",
    "plt.ylabel('Loss')\n",
    "plt.legend()\n",
    "plt.show()\n",
    "plt.savefig('elmo1_loss.png')\n"
   ]
  },
  {
   "cell_type": "code",
   "execution_count": 15,
   "metadata": {},
   "outputs": [
    {
     "data": {
      "text/plain": [
       "<All keys matched successfully>"
      ]
     },
     "execution_count": 15,
     "metadata": {},
     "output_type": "execute_result"
    }
   ],
   "source": [
    "elmo.load_state_dict(torch.load('elmo_model1.pt'))"
   ]
  },
  {
   "cell_type": "code",
   "execution_count": 16,
   "metadata": {},
   "outputs": [
    {
     "name": "stdout",
     "output_type": "stream",
     "text": [
      "embedding.weight tensor([[ 0.0000,  0.0000,  0.0000,  ...,  0.0000,  0.0000,  0.0000],\n",
      "        [-0.0455, -0.0049, -0.3074,  ...,  0.1832,  0.0994, -0.0489],\n",
      "        [-0.3970,  0.6153,  0.0971,  ..., -0.1090, -0.3179,  0.0442],\n",
      "        ...,\n",
      "        [-0.4002, -0.3347,  0.0580,  ...,  0.0591, -0.2369,  0.4198],\n",
      "        [-0.9068, -0.0600,  0.9909,  ...,  0.0420, -0.1341, -0.2229],\n",
      "        [-0.0623, -0.1463, -0.2567,  ..., -0.1825, -0.0501,  0.2171]],\n",
      "       device='cuda:0') torch.Size([10394, 300])\n",
      "lstm1.weight_ih_l0 tensor([[-0.2193,  0.0715, -0.2751,  ..., -0.3162, -0.1039,  0.1265],\n",
      "        [-0.0056, -0.0766, -0.1295,  ..., -0.1505,  0.0042,  0.0200],\n",
      "        [-0.0618,  0.0704, -0.0109,  ..., -0.0442,  0.0191, -0.0406],\n",
      "        ...,\n",
      "        [-0.2929, -0.2009, -0.1878,  ...,  0.0911, -0.1584,  0.2816],\n",
      "        [-0.0838, -0.2634, -0.3747,  ...,  0.2951,  0.0694,  0.2606],\n",
      "        [-0.1113,  0.2053, -0.2024,  ...,  0.0076,  0.0921,  0.1604]],\n",
      "       device='cuda:0') torch.Size([400, 300])\n",
      "lstm1.weight_hh_l0 tensor([[ 0.0539,  0.1031, -0.1076,  ...,  0.1550,  0.0455,  0.0270],\n",
      "        [ 0.1068,  0.1774,  0.0058,  ..., -0.2169,  0.1099, -0.1824],\n",
      "        [ 0.1096,  0.1422, -0.0816,  ..., -0.0865, -0.0120,  0.0548],\n",
      "        ...,\n",
      "        [ 0.0984,  0.0466, -0.0309,  ...,  0.0012,  0.0469, -0.1391],\n",
      "        [ 0.0592, -0.0601, -0.1319,  ..., -0.1708,  0.0846,  0.0073],\n",
      "        [-0.0759,  0.0654,  0.0850,  ..., -0.0811,  0.0022,  0.0629]],\n",
      "       device='cuda:0') torch.Size([400, 100])\n",
      "lstm1.bias_ih_l0 tensor([ 0.3626,  0.2501,  0.0856,  0.1642,  0.5364,  0.3501,  0.6198,  0.1631,\n",
      "         0.2710,  0.0761,  0.4090,  0.4275,  0.1917,  0.4810,  0.3188,  0.2631,\n",
      "         0.1142,  0.4670,  0.4080,  0.2747,  0.3235,  0.2452,  0.4152,  0.1647,\n",
      "         0.2370,  0.4091,  0.1851,  0.1313,  0.2250,  0.4250,  0.2050,  0.5997,\n",
      "        -0.0025,  0.4129,  0.5804,  0.3905,  0.5437,  0.2048,  0.4860,  0.2760,\n",
      "         0.1629,  0.2939,  0.3513,  0.2387,  0.4401,  0.2365,  0.1473,  0.5399,\n",
      "         0.4793,  0.4792,  0.3233,  0.0029,  0.4316,  0.1923,  0.3165,  0.3077,\n",
      "         0.1439,  0.2901,  0.1675,  0.2269,  0.3541,  0.1227,  0.2505,  0.0385,\n",
      "         0.0950,  0.2931,  0.2399,  0.3053,  0.1068,  0.2203,  0.2812,  0.4037,\n",
      "         0.3134,  0.6365,  0.2463,  0.3796,  0.0637,  0.1738,  0.1786,  0.1861,\n",
      "         0.6582,  0.4416,  0.1526,  0.1486,  0.3240,  0.2014,  0.3243,  0.2196,\n",
      "         0.3580,  0.4225,  0.1705,  0.2265,  0.2703,  0.1925,  0.0034,  0.5964,\n",
      "         0.2118,  0.0762,  0.5407,  0.5091,  0.1188, -0.0645,  0.0145, -0.0078,\n",
      "         0.0474,  0.1371,  0.0952, -0.0775,  0.0635,  0.0128,  0.0820,  0.1220,\n",
      "         0.0041,  0.0662,  0.0147,  0.0257, -0.0779, -0.0277,  0.0712,  0.1843,\n",
      "         0.0377,  0.0413,  0.1100,  0.1444,  0.0009,  0.0241, -0.0317,  0.0924,\n",
      "         0.0516, -0.0211,  0.0522,  0.0946, -0.0865, -0.0031,  0.0280,  0.1361,\n",
      "         0.0969,  0.0517, -0.0215,  0.1361,  0.0614,  0.0096,  0.1385,  0.0584,\n",
      "         0.0379,  0.0941,  0.1068, -0.0372,  0.1159,  0.0112,  0.0021,  0.0860,\n",
      "         0.1040,  0.1236, -0.0615,  0.0350, -0.1269,  0.0978,  0.1050,  0.1414,\n",
      "        -0.0452,  0.0594,  0.1607, -0.1114, -0.0278,  0.1467,  0.0467,  0.0899,\n",
      "        -0.1348, -0.0215,  0.0213,  0.1264, -0.0842,  0.0674,  0.1214,  0.0929,\n",
      "         0.1217,  0.0193,  0.0852,  0.1373,  0.1022,  0.0271,  0.0930, -0.0070,\n",
      "         0.1366,  0.0982, -0.0535,  0.0264, -0.0200,  0.0474, -0.0652,  0.1581,\n",
      "         0.1151, -0.1688, -0.1477,  0.0874, -0.1924, -0.1603,  0.0879, -0.0279,\n",
      "         0.1515,  0.1542, -0.1913, -0.1497, -0.2045,  0.2638, -0.2892, -0.0387,\n",
      "        -0.1859,  0.0750,  0.1821, -0.2451,  0.1089, -0.2301, -0.0697,  0.0929,\n",
      "         0.0049, -0.3037, -0.1220, -0.1627,  0.0697,  0.2374,  0.2092,  0.2489,\n",
      "         0.1097, -0.2338, -0.2705,  0.1070,  0.1421, -0.0925, -0.0942, -0.2906,\n",
      "         0.0844,  0.1802,  0.2537,  0.2178,  0.2927, -0.0589, -0.1223,  0.0892,\n",
      "         0.1075, -0.1334,  0.2305,  0.0405, -0.1353,  0.1903,  0.1066, -0.2580,\n",
      "        -0.2149,  0.2574, -0.1646,  0.0234,  0.2637,  0.1821,  0.2057,  0.1993,\n",
      "        -0.0579,  0.3235, -0.0846, -0.2223,  0.1999,  0.0727, -0.1812,  0.0581,\n",
      "        -0.1843, -0.0503,  0.0350, -0.1854, -0.1115,  0.0811, -0.1906,  0.2157,\n",
      "        -0.2574, -0.2000,  0.1638, -0.1723,  0.1442, -0.1161,  0.1298, -0.0736,\n",
      "         0.2726, -0.1798, -0.2120,  0.0652,  0.2053,  0.2032, -0.2477, -0.1216,\n",
      "         0.2185,  0.1282, -0.1132,  0.1716,  0.0639, -0.0676, -0.0405,  0.1308,\n",
      "        -0.0149,  0.1024,  0.0632, -0.1838, -0.0367,  0.2223,  0.0185,  0.0467,\n",
      "         0.2132,  0.2233,  0.3367,  0.1892, -0.0273,  0.0351,  0.0970,  0.1932,\n",
      "        -0.0609,  0.1821,  0.0828,  0.0127,  0.1750,  0.1388,  0.0861,  0.1872,\n",
      "         0.1006,  0.1503,  0.0172, -0.0300,  0.0034,  0.2355,  0.2472, -0.0688,\n",
      "         0.0769, -0.0172, -0.0243,  0.0742,  0.0985,  0.0630, -0.0425,  0.0308,\n",
      "         0.1873,  0.0157,  0.1622, -0.1500,  0.0294,  0.1849,  0.3286,  0.0539,\n",
      "         0.2007,  0.1053,  0.1525,  0.1699,  0.2720,  0.1343,  0.1629, -0.1500,\n",
      "         0.2420,  0.0064,  0.1196,  0.1328,  0.1961,  0.1274,  0.2057,  0.0507,\n",
      "         0.0043,  0.0694,  0.3192,  0.0595,  0.1219,  0.0450, -0.0481,  0.0587,\n",
      "         0.2883,  0.1953,  0.1085,  0.1571,  0.1506,  0.0536,  0.1831,  0.3016,\n",
      "         0.0396, -0.1107, -0.0302, -0.1145,  0.0317,  0.0931,  0.1540, -0.0288,\n",
      "         0.0682, -0.0130,  0.2430,  0.0547,  0.1618,  0.1164, -0.0063,  0.2177,\n",
      "        -0.0578,  0.3660,  0.0278,  0.2082,  0.1177, -0.0370,  0.1289,  0.0770],\n",
      "       device='cuda:0') torch.Size([400])\n",
      "lstm1.bias_hh_l0 tensor([ 4.3856e-01,  3.6718e-01,  2.6689e-01,  2.1641e-01,  4.6474e-01,\n",
      "         3.6790e-01,  6.7717e-01,  1.6546e-01,  3.1957e-01,  2.7056e-01,\n",
      "         4.4132e-01,  5.4943e-01,  3.7142e-02,  5.1536e-01,  3.0549e-01,\n",
      "         2.2351e-01,  1.7281e-02,  3.4680e-01,  4.2543e-01,  1.9095e-01,\n",
      "         3.3267e-01,  2.5853e-01,  3.9155e-01,  2.7214e-01,  1.0024e-01,\n",
      "         2.5144e-01,  3.3688e-01,  2.3551e-01,  3.6545e-01,  5.2888e-01,\n",
      "         1.5693e-01,  7.4628e-01, -1.6659e-02,  4.0779e-01,  5.5068e-01,\n",
      "         2.9161e-01,  4.1638e-01,  2.3144e-01,  4.6704e-01,  3.3809e-01,\n",
      "         1.9271e-01,  2.5801e-01,  5.1518e-01,  2.0593e-01,  4.3044e-01,\n",
      "         1.8477e-01,  3.3132e-01,  4.2636e-01,  5.7412e-01,  4.1946e-01,\n",
      "         3.8775e-01, -6.7289e-03,  5.8992e-01,  1.1038e-01,  2.8462e-01,\n",
      "         3.7593e-01,  1.8918e-01,  3.0448e-01,  1.9521e-01,  2.4346e-01,\n",
      "         3.3004e-01,  2.3889e-01,  1.7882e-01, -3.5868e-03,  1.4585e-01,\n",
      "         4.2813e-01,  2.3673e-01,  1.5410e-01,  1.2910e-02,  2.0622e-01,\n",
      "         2.6375e-01,  5.2970e-01,  3.3231e-01,  5.8025e-01,  2.1008e-01,\n",
      "         3.7629e-01,  9.1604e-02,  2.5699e-01,  1.8581e-01,  1.2742e-01,\n",
      "         5.4835e-01,  4.6157e-01,  1.8943e-01,  1.9249e-01,  3.6329e-01,\n",
      "         1.5302e-01,  3.9288e-01,  1.9207e-01,  3.5137e-01,  4.1491e-01,\n",
      "         2.7152e-01,  2.7208e-01,  2.2915e-01,  8.0321e-02, -4.0792e-02,\n",
      "         5.5186e-01,  2.0223e-01, -5.1738e-02,  4.8491e-01,  5.4039e-01,\n",
      "         3.0915e-02, -8.1742e-02, -4.7853e-02,  7.0570e-02,  1.3948e-01,\n",
      "        -2.6586e-02,  1.2614e-01, -4.2526e-02,  3.3626e-02,  4.9438e-03,\n",
      "         1.0315e-01,  3.7612e-02,  5.7772e-02,  4.1356e-02, -4.9936e-02,\n",
      "        -3.3718e-02, -1.8167e-01,  1.0875e-01, -3.6979e-02,  5.9233e-02,\n",
      "         1.1116e-01,  1.6146e-01,  9.0756e-03,  1.4844e-01,  3.4660e-02,\n",
      "         9.4493e-03, -1.7999e-02, -1.2258e-02,  1.4505e-01,  1.3395e-01,\n",
      "         3.4172e-02,  1.1169e-01, -1.0092e-01, -1.8045e-02, -3.7788e-02,\n",
      "         1.7137e-01,  1.0879e-01,  1.7304e-02, -3.7794e-02,  1.1711e-01,\n",
      "         4.6342e-02,  1.1877e-01,  1.1990e-02, -3.0110e-03,  1.2199e-02,\n",
      "         1.5684e-01,  4.4049e-02,  1.3152e-01,  3.0415e-02, -6.8002e-02,\n",
      "         4.5498e-05,  1.3506e-01,  5.9289e-02,  3.2625e-02,  8.2607e-02,\n",
      "         3.1197e-02, -9.1294e-02,  3.2520e-02,  7.6631e-02,  2.1209e-02,\n",
      "        -7.4435e-03,  2.5306e-02,  9.3421e-02, -1.5277e-01, -4.5726e-02,\n",
      "         6.1919e-02,  8.3564e-02,  1.2725e-02, -1.5562e-01,  4.8490e-02,\n",
      "         3.4717e-02,  2.3180e-02, -6.3099e-02,  7.5192e-04, -3.8956e-03,\n",
      "         1.0365e-01,  3.7567e-02,  4.1843e-02,  1.1570e-01, -1.5876e-03,\n",
      "         1.4964e-02,  2.9614e-02,  9.4755e-02, -3.0397e-03,  9.8166e-02,\n",
      "         9.8854e-02, -2.8963e-02,  1.0063e-01, -2.2361e-02,  1.5397e-01,\n",
      "         9.0043e-02, -2.7988e-02,  8.4126e-02, -1.2552e-01, -2.2383e-01,\n",
      "        -5.0275e-03, -1.1460e-01, -1.0688e-01,  5.2941e-02,  7.3453e-02,\n",
      "         2.9022e-01,  2.1904e-01, -2.0628e-01, -1.4103e-01, -1.6773e-01,\n",
      "         2.1544e-01, -4.2832e-01,  8.8967e-02, -2.0057e-01,  1.4294e-01,\n",
      "         2.0058e-01, -3.1562e-01,  1.2809e-01, -2.2208e-01, -1.0060e-01,\n",
      "         1.4813e-01,  1.8344e-01, -1.8462e-01, -1.1091e-01, -1.9031e-01,\n",
      "         2.0880e-01,  9.2257e-02,  8.0639e-02,  2.6355e-01,  1.5872e-01,\n",
      "        -1.8917e-01, -2.4023e-01,  7.2206e-02,  2.4781e-01, -1.3480e-01,\n",
      "        -1.5591e-01, -3.1556e-01,  7.4468e-02,  2.0931e-01,  3.7582e-01,\n",
      "         2.1247e-01,  1.9745e-01, -6.7841e-02, -1.0213e-01,  1.8314e-01,\n",
      "         2.0496e-01, -2.0127e-01,  2.7211e-01,  1.0504e-01, -1.2850e-01,\n",
      "         5.1754e-02,  2.1671e-01, -1.4798e-01, -1.9609e-01,  2.3830e-01,\n",
      "        -1.1228e-01, -1.2607e-01,  2.1397e-01,  9.5708e-02,  1.0883e-01,\n",
      "         2.3900e-01,  2.3427e-02,  3.7816e-01,  1.0459e-01, -2.1087e-01,\n",
      "         9.2832e-02,  1.3247e-01, -2.6040e-01, -1.5456e-02, -6.4584e-02,\n",
      "        -2.2559e-01,  1.7145e-01, -1.7849e-01, -7.3860e-02,  1.0410e-01,\n",
      "        -1.3693e-01,  4.1152e-02, -1.3068e-01, -3.3172e-01,  2.4984e-01,\n",
      "        -9.1461e-02,  5.6861e-02, -1.0574e-01,  7.0449e-02, -1.1732e-02,\n",
      "         2.8894e-01, -2.8333e-01, -1.5679e-01,  3.7052e-02,  2.0767e-01,\n",
      "         2.3470e-01, -2.2784e-01, -2.6079e-01,  1.9625e-01,  1.9512e-01,\n",
      "        -1.6387e-01,  2.6303e-01,  1.6768e-01, -8.9352e-03, -1.4352e-01,\n",
      "         1.9562e-01, -1.0872e-02,  1.4448e-01,  2.1678e-01, -3.2793e-01,\n",
      "         2.9925e-02,  2.4704e-01,  7.0215e-03,  1.2134e-01,  1.1684e-01,\n",
      "         2.2836e-01,  4.0659e-01,  1.0482e-01, -5.6932e-02,  1.3368e-01,\n",
      "         6.7708e-02,  2.8202e-01, -4.3822e-03,  8.2876e-02,  2.3651e-01,\n",
      "         5.3727e-02,  5.4572e-02,  1.7989e-01,  1.9221e-01,  6.7250e-02,\n",
      "         1.7409e-01,  1.5929e-02,  4.6254e-03, -3.1539e-03,  5.5523e-02,\n",
      "         2.0113e-01,  2.1832e-01, -1.2864e-02,  8.0600e-02, -1.6684e-02,\n",
      "         1.1747e-01, -5.9785e-03,  2.2357e-02,  1.9180e-02, -3.5944e-02,\n",
      "        -2.1639e-02,  4.8214e-02, -1.2843e-01,  8.3109e-02, -4.8996e-02,\n",
      "        -3.4538e-02,  2.3678e-01,  2.3208e-01, -7.0445e-02,  1.1564e-01,\n",
      "         1.1229e-01,  1.3003e-01,  2.4222e-01,  1.1161e-01,  2.3019e-01,\n",
      "         7.6169e-02, -5.7653e-02,  2.5123e-01,  5.3854e-02,  1.4703e-02,\n",
      "         8.2370e-02,  1.6122e-01,  1.8948e-02,  5.2976e-02,  3.7725e-02,\n",
      "         1.0783e-01, -1.9629e-02,  2.0759e-01,  5.3927e-02, -9.0080e-03,\n",
      "         9.5888e-02,  1.5854e-02,  1.6282e-01,  2.8023e-01,  2.2565e-01,\n",
      "         1.2480e-01,  7.3894e-02,  1.3452e-01,  1.4988e-02,  1.0018e-01,\n",
      "         2.7876e-01,  1.9306e-01,  1.7867e-02, -1.0304e-01,  3.4277e-02,\n",
      "         4.0386e-02,  9.6232e-02,  1.6562e-01, -1.0509e-01,  5.6447e-02,\n",
      "        -5.8656e-02,  1.4719e-01,  9.5763e-03,  6.7805e-02,  1.5727e-01,\n",
      "         1.2401e-02,  1.7246e-01, -9.3617e-02,  1.8562e-01,  6.1495e-02,\n",
      "         2.1241e-01,  9.9221e-02, -6.5109e-02,  8.8500e-02,  1.3507e-01],\n",
      "       device='cuda:0') torch.Size([400])\n",
      "lstm1.weight_ih_l0_reverse tensor([[ 0.0578,  0.0032, -0.1664,  ..., -0.0404, -0.0875,  0.1115],\n",
      "        [-0.1573,  0.2180, -0.0948,  ..., -0.0745, -0.0891,  0.1256],\n",
      "        [ 0.0739,  0.1064,  0.0220,  ..., -0.1147, -0.1109,  0.0124],\n",
      "        ...,\n",
      "        [-0.0914,  0.1931,  0.1522,  ..., -0.0395,  0.1089,  0.0199],\n",
      "        [ 0.0532, -0.2571, -0.0909,  ...,  0.2760, -0.0199, -0.1118],\n",
      "        [ 0.0959, -0.0293,  0.0252,  ...,  0.0766,  0.0051, -0.1764]],\n",
      "       device='cuda:0') torch.Size([400, 300])\n",
      "lstm1.weight_hh_l0_reverse tensor([[ 0.0157, -0.0390, -0.0705,  ...,  0.0227, -0.0103, -0.0675],\n",
      "        [ 0.2004,  0.0271, -0.0620,  ..., -0.1983,  0.0801, -0.2541],\n",
      "        [-0.0720, -0.1746, -0.0461,  ...,  0.0145,  0.0817, -0.0606],\n",
      "        ...,\n",
      "        [-0.0311,  0.0183,  0.0984,  ...,  0.0728,  0.0924,  0.0367],\n",
      "        [-0.3178, -0.2468,  0.1460,  ..., -0.2913, -0.5315,  0.3668],\n",
      "        [-0.2799, -0.0187,  0.1436,  ..., -0.2362, -0.3927,  0.3975]],\n",
      "       device='cuda:0') torch.Size([400, 100])\n",
      "lstm1.bias_ih_l0_reverse tensor([ 0.0241,  0.1305,  0.0774,  0.0344, -0.0429,  0.1202,  0.0210, -0.0006,\n",
      "         0.1211,  0.0120,  0.0884,  0.0494,  0.0877,  0.1325, -0.0012,  0.0861,\n",
      "        -0.0803,  0.0842,  0.0165, -0.0474,  0.0262,  0.0599,  0.0689,  0.0397,\n",
      "         0.0535,  0.0960,  0.0752, -0.0404,  0.0371, -0.0072,  0.1066, -0.0493,\n",
      "        -0.0266,  0.1415, -0.0178,  0.1275,  0.1343,  0.0207,  0.0695, -0.0271,\n",
      "         0.0036, -0.0844, -0.0489,  0.0381, -0.0438, -0.0110,  0.0387,  0.0881,\n",
      "         0.1200, -0.0424, -0.0425,  0.0687,  0.0025,  0.1144,  0.0795,  0.0333,\n",
      "         0.0668,  0.0608, -0.0321,  0.0851,  0.1662,  0.0918,  0.0524, -0.0092,\n",
      "         0.0515, -0.0110,  0.0932, -0.0485, -0.0279,  0.0500,  0.0970,  0.1047,\n",
      "         0.1067,  0.0699,  0.1591,  0.0166,  0.1053, -0.0276, -0.0514,  0.0779,\n",
      "         0.0258,  0.0808,  0.0978,  0.1116,  0.1067,  0.1269,  0.1033,  0.0179,\n",
      "         0.0997,  0.0023, -0.0972,  0.0983,  0.1463, -0.0132,  0.1428,  0.1013,\n",
      "         0.0537, -0.0111, -0.0339,  0.0301,  0.0620, -0.2298,  0.0497,  0.0784,\n",
      "         0.0795,  0.0212,  0.0249,  0.1044, -0.0210,  0.0447,  0.1028,  0.0218,\n",
      "         0.0885, -0.0145,  0.0590,  0.0831, -0.0085, -0.0444,  0.0186,  0.1316,\n",
      "        -0.1344, -0.0230,  0.0343, -0.0343,  0.0365,  0.0351,  0.0645,  0.1202,\n",
      "         0.1254, -0.0176,  0.1058,  0.0753,  0.0784,  0.1344,  0.0420,  0.0617,\n",
      "        -0.0499,  0.1174, -0.0571,  0.0753,  0.0749,  0.0034,  0.0734, -0.0181,\n",
      "         0.0087, -0.0284,  0.1512,  0.0832,  0.1071,  0.0744,  0.0991,  0.0665,\n",
      "         0.0195, -0.1199,  0.0899, -0.0137,  0.0062,  0.0738, -0.0400,  0.0697,\n",
      "         0.0005, -0.0214,  0.0742,  0.0603, -0.0489,  0.0408,  0.1047, -0.0154,\n",
      "         0.0338, -0.0340,  0.0998,  0.0419,  0.0046, -0.0344, -0.0069,  0.0920,\n",
      "         0.0912,  0.0699,  0.1308,  0.1163,  0.1018,  0.0177,  0.0896,  0.1050,\n",
      "         0.0367, -0.1258,  0.1121,  0.1244,  0.1041,  0.1251,  0.0448,  0.1588,\n",
      "        -0.0005,  0.1030, -0.0299, -0.0407,  0.1411,  0.1418, -0.0400,  0.1233,\n",
      "         0.1322,  0.0211, -0.0381,  0.0899,  0.0419,  0.0603,  0.1209, -0.0253,\n",
      "        -0.0687,  0.0817,  0.1451, -0.1295, -0.0020, -0.0951,  0.0026, -0.1182,\n",
      "         0.1089, -0.1057, -0.0852, -0.0792, -0.0812,  0.0147,  0.0069, -0.0534,\n",
      "        -0.0298, -0.0706,  0.0008,  0.1040,  0.1072,  0.0973,  0.0560,  0.0441,\n",
      "         0.0381,  0.0388, -0.1324, -0.0462, -0.0033,  0.0430,  0.0013,  0.0518,\n",
      "         0.0178, -0.0263,  0.0804,  0.0374, -0.0094, -0.1127, -0.0257, -0.0635,\n",
      "         0.1604,  0.1177,  0.1156,  0.0594,  0.0227, -0.0226,  0.1579, -0.1268,\n",
      "         0.1208,  0.0083,  0.0179, -0.1255, -0.2310, -0.0693, -0.1081,  0.0114,\n",
      "        -0.1522,  0.0390, -0.0239,  0.1060,  0.1108,  0.1306, -0.0687, -0.0358,\n",
      "        -0.0328, -0.0709, -0.0526, -0.1055,  0.0425,  0.0633, -0.0791,  0.0464,\n",
      "        -0.0276, -0.0269,  0.1127, -0.0752, -0.0740,  0.0676, -0.0361, -0.0852,\n",
      "         0.0531, -0.0753,  0.0562, -0.0565,  0.1747, -0.1114, -0.0024,  0.0232,\n",
      "        -0.0422, -0.0538,  0.0697, -0.0103, -0.0862,  0.1318, -0.0671,  0.0659,\n",
      "        -0.0683,  0.0461,  0.0015,  0.0178,  0.1951, -0.1974,  0.1126,  0.0258,\n",
      "        -0.0881, -0.2049, -0.1699, -0.0951, -0.0486,  0.2492,  0.1014, -0.0005,\n",
      "         0.1136,  0.0846, -0.0340, -0.0387,  0.0004,  0.0220, -0.1656, -0.0628,\n",
      "         0.0758,  0.0170, -0.0334, -0.0318,  0.1497, -0.0709, -0.1457,  0.0987,\n",
      "        -0.0069,  0.0420, -0.0223,  0.0063,  0.0916, -0.0028,  0.0628,  0.0231,\n",
      "        -0.1766,  0.0077, -0.0596,  0.0946, -0.0973,  0.1021, -0.2437,  0.2147,\n",
      "        -0.1005,  0.0383,  0.1615,  0.1264,  0.0665,  0.0193,  0.2340,  0.0675,\n",
      "         0.2907,  0.1010,  0.0642,  0.0411, -0.2233,  0.0018, -0.0807, -0.1188,\n",
      "        -0.0035,  0.0843, -0.1321,  0.0693,  0.2351,  0.0295,  0.0171, -0.0487,\n",
      "         0.1043,  0.0522, -0.0676,  0.0307,  0.0364, -0.0543,  0.0526,  0.0098,\n",
      "        -0.0376,  0.1747,  0.0188,  0.1125,  0.0155,  0.0884, -0.1181,  0.0140,\n",
      "        -0.0136,  0.0903, -0.0442,  0.0931,  0.0782,  0.1382, -0.1277, -0.0025],\n",
      "       device='cuda:0') torch.Size([400])\n",
      "lstm1.bias_hh_l0_reverse tensor([-0.0299,  0.1752, -0.0405,  0.0607,  0.0468, -0.0136,  0.0693,  0.0053,\n",
      "         0.1447, -0.0356,  0.0654, -0.0056,  0.0990,  0.1579, -0.0348, -0.0035,\n",
      "         0.0665,  0.1113, -0.0509,  0.1323,  0.0432,  0.0775, -0.0080, -0.0020,\n",
      "         0.1027,  0.0108,  0.0257, -0.0018,  0.0738,  0.1345,  0.1253,  0.0450,\n",
      "         0.0686, -0.0096,  0.0294,  0.1348,  0.0187, -0.0613,  0.0906, -0.0080,\n",
      "        -0.0732,  0.0986,  0.0782,  0.0550, -0.0311, -0.0241,  0.0534,  0.0917,\n",
      "         0.1445,  0.0862, -0.0040,  0.0805,  0.0297,  0.1480,  0.0751, -0.0776,\n",
      "        -0.0404, -0.0351, -0.0252,  0.0363,  0.0111,  0.1045,  0.1109, -0.0283,\n",
      "         0.0328,  0.1482,  0.0077,  0.0783, -0.0131,  0.1189, -0.0768,  0.1585,\n",
      "         0.0108,  0.0701,  0.0742,  0.0189,  0.1821,  0.1112,  0.0183,  0.0827,\n",
      "         0.0149,  0.0403,  0.0639,  0.0844,  0.0814,  0.0999,  0.0359, -0.0086,\n",
      "        -0.0492,  0.0190,  0.0471,  0.0007,  0.2153,  0.1112,  0.0402,  0.0529,\n",
      "        -0.0307, -0.0075,  0.0811,  0.0115, -0.0493, -0.0836, -0.0390,  0.0690,\n",
      "         0.1229,  0.0568,  0.0971,  0.0932,  0.1331,  0.0485, -0.0091,  0.0130,\n",
      "         0.0506,  0.1449,  0.1176,  0.1247, -0.0545, -0.1855, -0.0277,  0.0326,\n",
      "        -0.1158, -0.0012, -0.0049,  0.0487,  0.0494,  0.1313, -0.0080,  0.0204,\n",
      "         0.0270,  0.0585,  0.0114,  0.0364,  0.0560,  0.1019,  0.0906,  0.1209,\n",
      "         0.0253,  0.0726, -0.0930,  0.0708,  0.0546,  0.0742,  0.0194, -0.0513,\n",
      "         0.0636,  0.0206,  0.1290,  0.0279, -0.0721,  0.0215,  0.1221, -0.0259,\n",
      "         0.1583, -0.0164, -0.0770, -0.0055, -0.0210,  0.0957,  0.0938, -0.0116,\n",
      "         0.0106, -0.1720, -0.0202,  0.0971, -0.0302,  0.1042, -0.0436, -0.0070,\n",
      "         0.0942,  0.0020, -0.0588,  0.1425,  0.1077,  0.0651,  0.0532,  0.0524,\n",
      "         0.1018,  0.0094,  0.1154,  0.0331, -0.0041,  0.1235,  0.0187, -0.0378,\n",
      "         0.0339, -0.0929,  0.0957,  0.1107, -0.0534,  0.0469, -0.0127,  0.1388,\n",
      "        -0.0395, -0.0470,  0.1250,  0.0582,  0.0530, -0.0380, -0.0281,  0.0935,\n",
      "         0.1219,  0.0962, -0.1141,  0.0778,  0.0434,  0.0999,  0.1269, -0.0901,\n",
      "        -0.0814,  0.0840, -0.0077, -0.0619, -0.1528, -0.0144,  0.0117, -0.0727,\n",
      "         0.0462,  0.0230,  0.0769, -0.1409, -0.1693, -0.1180, -0.0501, -0.1405,\n",
      "        -0.1173,  0.0483, -0.0062,  0.0824,  0.1010,  0.0973,  0.1065,  0.0861,\n",
      "        -0.0947,  0.0435, -0.0380,  0.1076, -0.1372,  0.1015, -0.0355, -0.1124,\n",
      "        -0.0721,  0.0138, -0.0547,  0.1440,  0.0838, -0.0433, -0.1110, -0.0569,\n",
      "         0.0412,  0.0380, -0.0435,  0.0024,  0.0122,  0.0473,  0.1076, -0.0980,\n",
      "         0.0990,  0.1080, -0.0636, -0.1066, -0.1871, -0.0659, -0.0196, -0.0498,\n",
      "         0.0284, -0.1277, -0.1253, -0.0119,  0.0822,  0.0882, -0.0545,  0.0007,\n",
      "         0.0852, -0.0746, -0.0946, -0.0697, -0.1130, -0.0660, -0.1266,  0.1001,\n",
      "        -0.0295,  0.0389,  0.0633, -0.1262,  0.0707, -0.0637, -0.1097, -0.1090,\n",
      "         0.0035, -0.0774,  0.1062, -0.1158,  0.0454,  0.0086,  0.0886, -0.0046,\n",
      "        -0.0368, -0.0257,  0.0373, -0.1270, -0.0755,  0.0465, -0.0614,  0.1451,\n",
      "         0.0757, -0.0227, -0.0450, -0.1339,  0.1547, -0.1980,  0.0888,  0.1064,\n",
      "         0.0072, -0.1897, -0.0617, -0.1164,  0.0202,  0.1261,  0.1987, -0.1458,\n",
      "         0.1339,  0.0108, -0.0366, -0.2350, -0.1133,  0.0248, -0.1062, -0.1854,\n",
      "        -0.0337,  0.0547, -0.1431,  0.0205,  0.0071, -0.0606, -0.1434,  0.0947,\n",
      "        -0.0359, -0.0288,  0.1194,  0.1055,  0.1118, -0.1257, -0.0532,  0.0338,\n",
      "        -0.1569,  0.1040, -0.0186,  0.0080, -0.0758,  0.1664, -0.2381,  0.0782,\n",
      "        -0.0393,  0.0370,  0.0914,  0.0042,  0.1043, -0.0752,  0.2767,  0.0362,\n",
      "         0.2706,  0.0595, -0.0824,  0.1479, -0.1494,  0.0062, -0.1307,  0.0041,\n",
      "        -0.1540,  0.0736, -0.1922,  0.0824,  0.1561,  0.1261,  0.1270, -0.0165,\n",
      "         0.0918,  0.0251, -0.1285,  0.0237,  0.1093, -0.1091, -0.0712, -0.0912,\n",
      "        -0.0677,  0.2103,  0.1032, -0.0405, -0.1185,  0.1603, -0.0266, -0.1108,\n",
      "         0.1197,  0.1334,  0.0086,  0.0296, -0.0461,  0.1065, -0.1298,  0.0626],\n",
      "       device='cuda:0') torch.Size([400])\n",
      "lstm2.weight_ih_l0 tensor([[ 0.1325,  0.1573,  0.0141,  ..., -0.0570,  0.0990, -0.1364],\n",
      "        [ 0.0636,  0.0112, -0.0665,  ...,  0.0014,  0.1048,  0.0188],\n",
      "        [ 0.0512,  0.0719,  0.0127,  ..., -0.1851,  0.1353, -0.0946],\n",
      "        ...,\n",
      "        [-0.2157, -0.2232,  0.1284,  ...,  0.1666,  0.1523,  0.5062],\n",
      "        [-0.2667, -0.2827,  0.1395,  ...,  0.1665, -0.4764,  0.4197],\n",
      "        [-0.1927, -0.2647,  0.1446,  ..., -0.0090, -0.9261,  0.3785]],\n",
      "       device='cuda:0') torch.Size([400, 200])\n",
      "lstm2.weight_hh_l0 tensor([[-0.0030,  0.0407,  0.0679,  ..., -0.0865, -0.0640, -0.1101],\n",
      "        [-0.0430, -0.0897,  0.0871,  ...,  0.0740, -0.0285,  0.0280],\n",
      "        [-0.0325, -0.0113, -0.0382,  ...,  0.0587,  0.0056,  0.0180],\n",
      "        ...,\n",
      "        [-0.0155,  0.0457, -0.0512,  ..., -0.0615,  0.0306, -0.1101],\n",
      "        [-0.0710, -0.0876, -0.0308,  ...,  0.1299,  0.0889, -0.0332],\n",
      "        [-0.0134,  0.0249, -0.0363,  ..., -0.0058,  0.0338, -0.0751]],\n",
      "       device='cuda:0') torch.Size([400, 100])\n",
      "lstm2.bias_ih_l0 tensor([-9.6515e-03, -6.1731e-04,  4.2916e-02,  2.0839e-02, -1.6114e-03,\n",
      "        -1.7000e-02,  9.1388e-02,  9.3034e-02,  3.6834e-02,  1.1390e-01,\n",
      "         8.4069e-02,  6.0691e-02,  9.9773e-02, -1.2412e-01,  2.3937e-02,\n",
      "         9.2234e-02,  1.5294e-01,  1.0795e-01,  7.4042e-02,  6.1603e-02,\n",
      "         9.9023e-02,  1.7185e-01,  4.0104e-02,  1.2651e-01, -2.3138e-04,\n",
      "         1.6088e-02, -4.5779e-02,  6.4402e-02,  2.2838e-01,  1.3193e-01,\n",
      "         3.1030e-02,  1.7200e-01, -5.9439e-03,  9.9066e-02,  2.9512e-02,\n",
      "         1.1368e-01,  4.2099e-02,  8.8396e-04,  1.0309e-01,  6.4975e-02,\n",
      "        -1.2939e-02,  1.8052e-02,  7.6678e-02,  8.7312e-02,  1.0697e-01,\n",
      "         1.4229e-01,  6.8914e-02,  6.8540e-02,  3.2160e-02,  3.4696e-03,\n",
      "        -4.3660e-02,  1.3449e-01, -2.3502e-03,  7.5312e-02,  1.6123e-01,\n",
      "         1.5251e-01,  7.0610e-02,  9.5531e-02,  1.5243e-01, -3.1884e-02,\n",
      "         9.6508e-02,  1.2732e-02, -1.3933e-02,  4.7665e-02,  1.5566e-01,\n",
      "         1.1385e-01,  1.3919e-01,  1.4118e-01,  3.8135e-02,  5.9270e-02,\n",
      "         1.8870e-01,  5.2690e-02,  1.2430e-01, -3.8976e-02,  9.5602e-02,\n",
      "        -5.7392e-03,  2.2017e-01,  1.0646e-01,  8.9739e-02,  1.1946e-01,\n",
      "        -4.2292e-03,  1.5350e-01,  2.2165e-01,  9.3679e-02,  1.3753e-01,\n",
      "         1.6751e-01, -1.1196e-02,  5.4012e-02,  7.8281e-02, -4.0269e-02,\n",
      "         1.1669e-01,  5.6547e-02,  1.7865e-01,  1.1239e-01,  1.1382e-01,\n",
      "         1.5867e-01,  9.1134e-02,  1.0907e-01,  2.5671e-03,  7.6312e-02,\n",
      "        -9.4888e-04, -5.1232e-02, -2.7878e-02,  7.0423e-02,  2.3530e-02,\n",
      "         8.4580e-02,  9.3420e-02,  2.2780e-02, -2.6069e-02,  1.5169e-02,\n",
      "         2.1824e-02,  5.1949e-03,  9.5264e-03, -1.3722e-02,  1.1872e-01,\n",
      "         1.2346e-01, -5.0129e-02, -1.0343e-02,  2.6030e-03,  4.0232e-02,\n",
      "        -1.7053e-02, -3.5779e-01,  1.1689e-01, -4.5375e-02,  2.8232e-02,\n",
      "         1.2189e-01, -5.4924e-02, -5.9094e-03,  8.3252e-02, -1.1742e-02,\n",
      "         2.5330e-03,  1.4370e-01, -5.1534e-02,  4.8726e-02,  5.2791e-02,\n",
      "         9.3735e-02,  7.0886e-02, -6.6465e-02,  5.8056e-02,  1.2490e-01,\n",
      "         6.5135e-02,  4.4171e-02, -1.1872e-01, -8.3723e-03, -3.9124e-02,\n",
      "        -6.7171e-02,  6.8762e-02,  2.3329e-02, -6.9432e-02,  5.4147e-02,\n",
      "        -3.8935e-02,  1.1874e-01,  1.1996e-01,  7.6590e-03,  3.6790e-02,\n",
      "        -1.5763e-02,  5.2478e-02,  5.9790e-02,  3.3231e-03,  8.5315e-02,\n",
      "        -4.3623e-02, -2.0508e-03, -3.5469e-02,  6.8615e-02,  1.9170e-01,\n",
      "         2.7583e-02, -5.6417e-03, -1.0193e-02,  9.2566e-02,  9.2212e-02,\n",
      "        -2.2577e-01,  1.0079e-01,  1.7853e-02,  5.8069e-02,  1.3309e-01,\n",
      "         8.1298e-02,  4.3725e-02, -3.3069e-02, -3.4410e-02,  1.0911e-01,\n",
      "         1.1496e-01,  5.4187e-02, -1.6177e-01,  6.2704e-02,  6.4149e-03,\n",
      "         1.8779e-03,  1.2612e-01,  3.8998e-02,  7.1225e-02,  8.7879e-02,\n",
      "        -6.1590e-02,  2.8737e-02,  5.8357e-02, -7.1535e-02, -4.8250e-02,\n",
      "         1.3483e-02,  8.1369e-02,  2.9665e-02, -4.6234e-02,  4.6131e-02,\n",
      "        -4.7743e-02,  1.4582e-02,  5.7790e-02, -1.2327e-01, -6.8388e-02,\n",
      "        -4.5939e-02, -5.9054e-02, -6.6279e-02,  6.7767e-02,  1.5803e-02,\n",
      "         1.2227e-01, -8.3765e-02,  8.8225e-02, -9.3738e-02, -9.6254e-02,\n",
      "        -1.1480e-01, -1.2833e-01, -4.3889e-02,  4.2635e-02, -9.5615e-02,\n",
      "        -3.1993e-02,  2.4891e-01, -6.9754e-02, -9.1629e-02,  7.5537e-02,\n",
      "        -8.6580e-02,  2.5917e-02,  1.0383e-01,  1.8235e-02, -2.0252e-02,\n",
      "         5.7884e-02,  1.3022e-02, -7.2412e-02, -1.0054e-01, -3.3887e-02,\n",
      "         4.5768e-02, -3.5110e-02, -6.6822e-03,  2.6315e-03,  1.0320e-01,\n",
      "         2.2942e-02, -5.9344e-03,  1.4930e-01,  1.0773e-01,  1.2100e-01,\n",
      "        -1.9065e-02, -9.7299e-02, -7.3522e-02,  5.4190e-02,  1.8929e-02,\n",
      "         1.3402e-01, -6.1305e-02,  1.1528e-01,  2.0161e-02,  8.8591e-03,\n",
      "        -7.1749e-03, -5.1078e-02,  9.2005e-02, -5.3170e-02, -6.2134e-02,\n",
      "         8.4597e-02,  7.0215e-02,  1.0847e-01, -8.2469e-02, -8.2155e-02,\n",
      "         3.6713e-02, -1.2918e-01,  2.7320e-02, -1.3282e-01,  5.5196e-02,\n",
      "         1.2984e-01, -8.5054e-02, -1.1946e-01,  1.0890e-01,  2.6833e-02,\n",
      "        -1.8244e-02,  5.1540e-02,  3.1047e-02,  1.0760e-01,  3.5610e-02,\n",
      "         8.1755e-02,  5.3727e-02, -2.9874e-01, -7.7580e-02, -3.8946e-02,\n",
      "         6.1782e-02, -7.6812e-02, -1.2259e-01,  1.0966e-01, -8.4872e-02,\n",
      "         9.8574e-02, -8.3854e-02, -2.1266e-02, -8.3329e-02, -5.6204e-02,\n",
      "         1.2511e-02,  1.1714e-01, -1.1932e-01, -3.3873e-02, -5.8509e-02,\n",
      "        -2.6100e-01, -3.2860e-01,  1.1889e-01, -4.1897e-01, -1.9081e-01,\n",
      "        -1.6962e-01, -1.8378e-01, -6.2024e-05, -3.2364e-01, -1.4308e-01,\n",
      "        -1.8205e-01, -2.1090e-01, -4.2803e-01,  2.1532e-01, -1.8658e-01,\n",
      "        -3.0488e-01,  9.7216e-02, -2.0491e-01,  1.2111e-01,  3.2130e-02,\n",
      "        -4.0636e-01,  6.3281e-02,  8.6232e-02, -8.8196e-02, -5.2632e-02,\n",
      "        -3.0225e-01, -1.1932e-01, -3.4828e-01, -4.2514e-01, -1.7932e-01,\n",
      "        -1.8350e-01, -3.6760e-02, -1.8201e-01,  9.3842e-02, -1.6527e-01,\n",
      "        -4.1188e-01, -6.0819e-02, -1.8971e-01,  9.8893e-02, -3.1212e-01,\n",
      "         3.0961e-01,  3.1484e-02,  8.4376e-02, -2.7130e-01, -2.2701e-01,\n",
      "        -2.2455e-01, -3.1229e-01,  7.3699e-02, -4.3787e-01, -2.3173e-01,\n",
      "         2.1059e-02, -2.0148e-01,  2.0876e-01, -3.2966e-01,  1.1555e-01,\n",
      "         2.1818e-01, -2.0831e-01, -2.4053e-01,  1.3955e-01, -1.6965e-01,\n",
      "        -3.9282e-01,  3.0052e-01, -2.9058e-01, -3.7652e-01, -7.5002e-02,\n",
      "        -3.3601e-01, -3.5097e-01,  2.2432e-02, -1.8766e-01,  7.0966e-02,\n",
      "         1.2803e-01, -3.3342e-02,  2.2120e-02, -3.8117e-01, -4.7715e-01,\n",
      "         2.0295e-01, -1.3070e-01, -1.2033e-02, -6.6950e-02, -3.2059e-01,\n",
      "        -1.7383e-01,  2.9615e-02,  3.3619e-01, -1.2840e-01, -3.7100e-01,\n",
      "         1.7007e-01, -7.3453e-02, -5.5412e-02, -3.7276e-01, -4.6140e-01,\n",
      "        -2.9535e-02, -2.7722e-01,  9.7823e-02, -1.3717e-01, -2.1667e-01,\n",
      "        -2.1325e-01,  2.3417e-01, -3.5779e-01, -2.2715e-01, -3.4722e-01],\n",
      "       device='cuda:0') torch.Size([400])\n",
      "lstm2.bias_hh_l0 tensor([-1.8846e-02,  1.4192e-01, -3.4735e-02, -4.6253e-02,  1.4090e-01,\n",
      "         9.3344e-02,  4.7322e-02,  9.7053e-02, -1.2017e-02,  1.0092e-01,\n",
      "        -2.2773e-02,  7.6050e-02,  3.3585e-02, -1.7560e-01, -1.1512e-02,\n",
      "        -1.9732e-02,  5.8162e-02,  3.3256e-02,  1.7200e-01, -1.6536e-02,\n",
      "         6.4474e-02,  2.2495e-01,  5.2037e-02,  5.6385e-02,  8.2715e-02,\n",
      "         4.2109e-02,  4.7584e-02, -5.5698e-03,  1.6085e-01,  9.1819e-02,\n",
      "        -2.1040e-02,  6.6631e-02, -2.6354e-02,  1.4863e-01,  1.0320e-01,\n",
      "        -2.9377e-03,  1.6743e-01,  5.4721e-02,  6.5541e-02,  3.7224e-02,\n",
      "         1.0633e-01, -1.3694e-02,  2.0836e-01,  3.4478e-02,  1.0565e-01,\n",
      "         1.0596e-01, -2.1261e-02,  8.6670e-02, -3.5622e-02,  1.8788e-01,\n",
      "        -8.4393e-03, -4.5926e-03,  7.0925e-02,  1.3466e-01,  1.7115e-01,\n",
      "         7.5118e-02,  1.2550e-01,  3.4455e-02,  6.8735e-03,  1.3959e-01,\n",
      "         1.2187e-01,  8.7294e-02, -1.9260e-02, -3.5414e-02,  8.8824e-02,\n",
      "         8.8356e-02,  7.5529e-03, -4.4535e-02,  4.8248e-02,  5.5062e-02,\n",
      "         2.2768e-01,  8.6605e-02,  2.0569e-01,  1.2495e-01, -6.1648e-03,\n",
      "        -5.1585e-03,  8.1076e-02, -4.9441e-02,  1.0180e-01, -2.9128e-02,\n",
      "        -9.5058e-03,  5.6021e-02,  1.8451e-01,  6.7843e-02, -4.9532e-02,\n",
      "         1.0623e-01,  7.6137e-02,  1.1648e-01,  4.5809e-02,  1.3834e-01,\n",
      "         1.1427e-01,  5.8138e-02,  1.3267e-01,  1.3334e-01,  1.2026e-02,\n",
      "         6.5281e-02,  4.9351e-02,  1.1359e-01, -4.0696e-02,  6.2464e-03,\n",
      "        -1.5020e-02,  1.5613e-02,  8.9297e-02, -4.6593e-02, -5.5222e-03,\n",
      "        -4.5103e-02, -2.9336e-02,  6.7101e-02,  4.3026e-02, -5.9849e-02,\n",
      "        -5.4698e-02,  4.3240e-02,  1.2683e-01,  1.0364e-02, -6.1581e-02,\n",
      "        -1.7743e-02, -2.2888e-02, -1.5855e-03,  1.3958e-01, -1.2350e-02,\n",
      "        -4.6986e-02, -2.6152e-01,  2.6611e-02, -1.8515e-02,  9.1349e-03,\n",
      "        -3.6771e-02, -4.5042e-02,  9.5606e-02,  1.0506e-01,  1.6530e-02,\n",
      "         9.5620e-02,  7.5099e-02,  1.1450e-01, -3.8476e-02,  5.6665e-02,\n",
      "        -1.1350e-02,  6.8442e-02, -3.5099e-03,  3.0283e-02,  4.3250e-02,\n",
      "        -8.8752e-03,  1.1073e-01, -2.4322e-01,  9.5254e-02,  1.2637e-01,\n",
      "         6.5930e-02, -1.1581e-02,  3.8696e-02, -5.3021e-02,  1.7236e-01,\n",
      "         4.6497e-03,  5.0974e-02,  5.0399e-02,  2.8993e-02,  1.3308e-01,\n",
      "         1.2113e-02,  9.8722e-03,  9.4821e-02,  8.4031e-02, -2.5462e-02,\n",
      "         1.4095e-01, -1.5772e-02,  1.9862e-02,  2.3088e-02,  6.0240e-02,\n",
      "         1.0219e-01,  2.5608e-02,  9.1120e-02,  1.1033e-01, -2.6697e-02,\n",
      "        -2.5283e-01, -5.3021e-02,  9.7975e-02,  6.8210e-02, -3.5329e-02,\n",
      "         2.7675e-02,  9.1980e-02,  1.3234e-01,  1.1841e-01,  1.0469e-01,\n",
      "        -2.5550e-03,  1.2561e-01, -2.2648e-01,  3.1020e-02,  1.0470e-01,\n",
      "         2.3839e-02,  1.0032e-01,  8.8749e-02,  1.3721e-01,  4.6719e-02,\n",
      "         1.5382e-03,  6.4769e-02,  7.8669e-02,  6.6952e-02,  5.1570e-02,\n",
      "         7.4250e-02,  4.3106e-02,  4.5441e-02, -3.0020e-02,  1.1822e-01,\n",
      "         1.9511e-02, -1.0420e-01,  6.1156e-02,  7.9570e-03, -9.0536e-03,\n",
      "        -1.2661e-02,  3.1086e-02, -3.4695e-02,  9.0333e-02,  1.0757e-01,\n",
      "         5.1638e-02, -6.6182e-02,  1.2501e-01,  6.3157e-03,  2.0061e-03,\n",
      "        -2.0471e-02,  4.2425e-04, -8.8450e-02,  3.2038e-02,  8.6017e-03,\n",
      "         6.9352e-02,  3.5282e-01, -3.3854e-02,  5.3407e-02,  1.2268e-01,\n",
      "         4.0503e-03,  3.8438e-02,  8.2237e-02, -4.9958e-02, -7.1847e-02,\n",
      "        -3.5131e-02,  3.5139e-03, -9.7655e-02, -2.0236e-02,  2.1571e-03,\n",
      "         9.5186e-02, -3.4460e-02,  3.3026e-02,  1.3651e-01,  3.9958e-02,\n",
      "        -3.9696e-02, -1.2705e-01,  2.4581e-01,  4.2154e-02,  3.5607e-02,\n",
      "         9.3537e-02,  3.4070e-02, -6.2738e-02,  9.0432e-02,  5.9373e-02,\n",
      "         7.8452e-02,  4.8227e-02,  8.7349e-02, -4.9744e-02, -8.7487e-02,\n",
      "        -1.5322e-02, -2.4392e-02,  6.3649e-03,  6.5238e-02, -8.1810e-02,\n",
      "        -2.0894e-02,  7.1453e-03,  4.8839e-02, -1.5827e-02,  4.1127e-02,\n",
      "        -1.2030e-01, -9.8336e-02,  1.2348e-01,  2.8705e-02,  1.1808e-01,\n",
      "         2.4908e-01, -8.1017e-02, -6.5873e-02,  7.7002e-02, -5.4865e-02,\n",
      "         5.5842e-02, -1.0011e-01, -6.1263e-02,  1.1739e-02,  5.4568e-02,\n",
      "         1.0983e-02,  9.4496e-02, -3.2452e-01,  2.6123e-02,  2.0732e-02,\n",
      "        -2.3432e-02, -2.0845e-02,  4.3100e-02,  9.8717e-03, -4.9919e-02,\n",
      "         9.4435e-02, -1.0481e-02,  4.5119e-03, -8.0651e-02,  2.5475e-02,\n",
      "         1.0392e-01,  5.8354e-02,  4.5172e-02,  3.0343e-02, -1.7938e-03,\n",
      "        -2.3413e-01, -3.0606e-01,  1.6533e-01, -2.6091e-01, -9.6988e-02,\n",
      "        -2.8230e-01, -1.9448e-01, -1.4161e-01, -1.8708e-01, -2.9351e-01,\n",
      "        -1.1188e-01, -1.5844e-01, -3.8546e-01,  1.5845e-01, -1.6657e-01,\n",
      "        -3.0089e-01,  1.8316e-02, -3.6066e-01,  1.5719e-01,  9.3439e-02,\n",
      "        -3.2247e-01,  1.6774e-01,  1.0730e-01, -4.3874e-02, -1.5462e-01,\n",
      "        -3.8046e-01, -1.7361e-01, -4.7364e-01, -2.7837e-01, -1.4295e-01,\n",
      "        -3.3153e-01,  1.5398e-01, -2.7384e-01,  2.0729e-01, -5.8696e-02,\n",
      "        -4.7649e-01, -1.3637e-01, -2.6926e-01,  3.6362e-03, -3.0612e-01,\n",
      "         3.9946e-01,  7.1839e-02,  2.4170e-01, -2.7496e-01, -1.1901e-01,\n",
      "        -3.7290e-01, -1.9954e-01, -9.2126e-02, -4.2947e-01, -3.1009e-01,\n",
      "         2.7313e-02, -2.8637e-01,  2.2558e-01, -3.1338e-01,  1.4175e-01,\n",
      "         8.7892e-02, -1.6786e-01, -3.5757e-01,  2.3997e-01, -2.3187e-01,\n",
      "        -3.6296e-01,  3.8939e-01, -2.6120e-01, -2.3098e-01, -1.0006e-01,\n",
      "        -3.4718e-01, -3.3651e-01,  1.8074e-02, -2.4297e-01,  2.1677e-01,\n",
      "         2.1492e-01, -7.3624e-02,  5.5419e-02, -2.8958e-01, -3.9130e-01,\n",
      "         1.7830e-01, -1.5899e-01,  7.7843e-02, -5.3456e-02, -2.1092e-01,\n",
      "        -2.0290e-01, -9.7890e-02,  3.3310e-01, -1.0743e-01, -3.5368e-01,\n",
      "         9.9696e-02, -5.7878e-02, -3.9728e-02, -4.3107e-01, -3.1345e-01,\n",
      "         1.1271e-01, -4.0940e-01,  7.4479e-02, -1.9418e-01, -1.0786e-01,\n",
      "        -3.0784e-01,  2.3792e-01, -2.4099e-01, -2.0802e-01, -3.7003e-01],\n",
      "       device='cuda:0') torch.Size([400])\n",
      "lstm2.weight_ih_l0_reverse tensor([[-0.0967,  0.0441,  0.0408,  ...,  0.0190,  0.0049, -0.0240],\n",
      "        [ 0.0240,  0.0629, -0.1070,  ..., -0.1813, -0.0283, -0.0400],\n",
      "        [ 0.0138,  0.0563, -0.0888,  ...,  0.0536,  0.0009,  0.0159],\n",
      "        ...,\n",
      "        [ 0.0462,  0.0771,  0.0081,  ...,  0.4179, -0.3513,  0.1548],\n",
      "        [-0.2203,  0.2278, -0.2570,  ..., -0.4800,  0.8187, -0.7386],\n",
      "        [ 0.0436, -0.0579, -0.0501,  ...,  0.2465, -0.7340,  0.5518]],\n",
      "       device='cuda:0') torch.Size([400, 200])\n",
      "lstm2.weight_hh_l0_reverse tensor([[ 7.9324e-02, -6.4168e-02, -9.8289e-02,  ..., -5.1404e-02,\n",
      "         -1.5166e-02,  1.0996e-03],\n",
      "        [ 1.3194e-01, -3.8482e-02, -1.1216e-02,  ...,  8.3514e-02,\n",
      "         -9.1021e-03, -7.5517e-02],\n",
      "        [ 1.1097e-01, -6.8985e-03, -7.1267e-02,  ..., -7.7050e-06,\n",
      "         -3.3970e-02, -1.1137e-02],\n",
      "        ...,\n",
      "        [ 3.0175e-01, -4.2727e-01,  1.0631e-02,  ...,  1.4918e-01,\n",
      "          3.9678e-02,  5.6539e-02],\n",
      "        [ 3.4031e-01, -2.6171e-01,  1.0150e-02,  ..., -3.6013e-02,\n",
      "          2.2331e-01, -9.9713e-02],\n",
      "        [-3.5728e-01,  1.1870e+00, -4.9936e-02,  ..., -4.9310e-03,\n",
      "         -8.6002e-02,  3.7898e-01]], device='cuda:0') torch.Size([400, 100])\n",
      "lstm2.bias_ih_l0_reverse tensor([ 4.1887e-02,  2.6121e-02, -6.1376e-02,  6.2174e-02,  7.9339e-02,\n",
      "        -1.6730e-02,  1.2340e-01,  1.2471e-01, -8.1210e-04, -1.1337e-02,\n",
      "         1.1708e-01, -2.4454e-02,  6.7242e-02,  2.0417e-02,  2.8995e-02,\n",
      "         9.2566e-03, -1.9062e-02, -3.9687e-02, -2.1500e-02,  7.2920e-02,\n",
      "        -2.6324e-02,  8.8249e-02, -1.7455e-02,  3.4678e-02,  1.6806e-02,\n",
      "        -4.2891e-02,  3.0604e-02, -4.9477e-02,  1.3391e-01,  1.2210e-01,\n",
      "         1.0470e-01,  2.7540e-02,  3.1573e-02, -4.0033e-02,  1.5115e-01,\n",
      "         1.0956e-01,  1.3389e-01,  7.1565e-02, -3.7253e-02, -3.0266e-02,\n",
      "         1.2311e-01,  5.1835e-02,  1.5110e-02,  1.2122e-01,  3.1097e-02,\n",
      "        -7.5936e-02, -2.0537e-02,  1.0472e-01, -8.1080e-03,  4.1987e-02,\n",
      "        -5.9998e-02, -3.0974e-03,  1.8041e-01,  7.9517e-02, -2.4375e-02,\n",
      "        -2.5020e-02,  3.2066e-03, -5.5816e-03, -2.1916e-02, -6.1828e-02,\n",
      "        -9.7418e-02,  1.0122e-01,  9.5924e-02, -2.6789e-02,  4.0401e-02,\n",
      "        -3.7318e-02, -4.8297e-02,  5.7591e-02,  5.9093e-02,  1.6069e-01,\n",
      "         1.1686e-01,  1.0091e-01,  5.8637e-02,  9.6004e-02, -1.4932e-02,\n",
      "         6.6369e-03,  8.4221e-02,  1.9238e-03, -2.0315e-02,  3.0692e-02,\n",
      "         1.1610e-02, -6.1915e-02, -4.1082e-03,  1.0278e-01, -4.2419e-02,\n",
      "         1.3465e-01, -1.0578e-01,  4.7849e-02,  2.2090e-02,  4.4918e-04,\n",
      "         7.2595e-02, -2.7848e-02,  9.3041e-02, -6.8184e-02,  1.0968e-01,\n",
      "         4.8176e-02, -4.2051e-02, -6.9981e-02,  2.8546e-02, -3.0435e-02,\n",
      "         8.6740e-04,  7.0356e-03, -6.6894e-02, -8.2340e-03, -4.0170e-02,\n",
      "         2.3181e-02,  1.3249e-02, -4.0026e-02,  7.2739e-02,  5.9821e-02,\n",
      "         7.9337e-02,  4.4310e-02,  6.7473e-02, -5.9258e-03,  9.6463e-02,\n",
      "        -5.7772e-02,  4.0765e-02,  1.8066e-02, -5.1087e-02,  8.9774e-02,\n",
      "        -2.7472e-02,  4.8280e-02,  3.6390e-02,  1.2170e-01, -3.7316e-02,\n",
      "        -4.3364e-02, -2.6101e-02, -5.9484e-02, -4.1727e-02,  1.3865e-02,\n",
      "        -1.8156e-02,  1.1722e-01,  2.0756e-02, -6.2022e-03,  4.2008e-02,\n",
      "         3.6139e-02,  3.8807e-03,  4.9804e-02,  9.2512e-02, -6.4130e-02,\n",
      "         1.0907e-01,  7.4179e-02,  1.0265e-01,  6.8976e-02,  1.0515e-01,\n",
      "         1.0948e-02, -4.4071e-02,  9.8520e-02,  8.5059e-02, -4.2819e-02,\n",
      "         5.0370e-02,  6.6573e-02, -1.4899e-01, -7.0917e-02,  7.3618e-02,\n",
      "         6.3629e-02,  7.8380e-02,  6.5036e-02, -4.9082e-02,  5.4986e-02,\n",
      "        -1.7068e-01,  4.0311e-02,  2.5782e-02,  3.5305e-02,  1.8452e-02,\n",
      "         2.3507e-02, -4.0966e-02,  1.1507e-01,  9.0400e-03, -4.6998e-02,\n",
      "         9.5315e-02,  1.1821e-01,  1.1169e-01, -6.4923e-02,  1.1114e-01,\n",
      "        -4.6804e-03, -4.4443e-02, -2.4447e-02,  6.3467e-02, -6.3432e-02,\n",
      "         2.9577e-02, -1.8185e-02, -6.5417e-02, -9.6795e-03,  1.1555e-01,\n",
      "        -3.0525e-02, -2.1276e-03, -1.6224e-02,  3.7088e-02,  5.0422e-02,\n",
      "        -8.9878e-02, -6.3619e-02,  5.9358e-02,  7.0960e-02, -2.9779e-01,\n",
      "        -3.8455e-02,  4.9694e-02, -3.9686e-02, -7.3567e-02,  3.3830e-02,\n",
      "        -1.9376e-03,  2.0423e-02, -2.4953e-02,  1.7302e-02,  2.7911e-02,\n",
      "         1.2326e-01,  2.7786e-02, -3.0185e-02, -2.5649e-02, -5.5707e-02,\n",
      "         7.2206e-02, -4.0297e-02, -3.8088e-02,  9.0929e-02, -1.1179e-01,\n",
      "        -9.6496e-02,  6.0752e-03,  7.0947e-02,  2.2871e-02,  4.9850e-02,\n",
      "        -6.6132e-02,  4.7586e-02,  1.1932e-01,  1.0685e-01, -7.7158e-02,\n",
      "         1.1016e-01, -7.1359e-02,  1.0029e-01,  4.7501e-02, -5.3912e-02,\n",
      "         2.4008e-02, -2.6574e-02,  1.0132e-01,  1.0938e-01,  4.5359e-02,\n",
      "        -6.3378e-02,  2.7510e-03, -3.2109e-02, -1.4054e-02, -7.2990e-02,\n",
      "        -4.3215e-02,  9.3693e-02, -2.4099e-03,  1.9065e-04, -4.4924e-02,\n",
      "        -6.2997e-02, -6.0730e-02,  4.9921e-02, -6.1010e-02,  5.2977e-02,\n",
      "         5.9664e-02,  9.1695e-02,  1.6030e-01,  7.2142e-02, -6.9235e-02,\n",
      "        -6.2013e-02, -3.6863e-02,  1.1151e-01, -7.2094e-02, -2.0786e-03,\n",
      "         2.2391e-03, -6.7157e-02, -6.3088e-02,  6.3724e-02, -4.5689e-03,\n",
      "        -5.8855e-02, -8.4442e-02, -3.5209e-02, -5.1943e-02, -4.4726e-02,\n",
      "        -8.1611e-02,  6.6184e-02, -9.4261e-04,  2.3558e-02, -5.9669e-02,\n",
      "        -1.1733e-01, -7.8149e-02, -6.3478e-02,  3.4244e-02, -8.7873e-02,\n",
      "         1.1254e-02, -2.6258e-02, -7.6649e-02,  5.3037e-02,  9.9015e-02,\n",
      "         1.1992e-01, -1.1633e-01,  7.8706e-02,  9.2821e-02, -6.2716e-02,\n",
      "         1.1672e-01, -2.0542e-02,  2.9380e-03, -5.7724e-02, -2.2217e-01,\n",
      "        -6.2960e-02,  1.1800e-01, -9.7128e-03,  1.7116e-02,  4.7522e-02,\n",
      "         6.9788e-02,  4.2664e-02, -1.5305e-03,  6.7821e-02,  6.6778e-02,\n",
      "         7.6886e-02,  2.1115e-01,  1.1660e-01,  1.4380e-01, -2.1078e-02,\n",
      "         8.0168e-02, -1.0360e-02,  2.0237e-01, -8.3229e-03,  1.4406e-01,\n",
      "         9.4686e-02,  3.1031e-01,  1.4209e-01, -2.8453e-02,  1.0056e-01,\n",
      "        -1.5632e-02, -3.0731e-02, -5.3735e-02,  1.4581e-01,  1.6274e-02,\n",
      "        -7.6445e-04, -6.1037e-02,  2.0356e-01,  1.2006e-01,  1.1462e-01,\n",
      "         7.2326e-02, -1.5275e-01, -1.2867e-02,  2.7203e-02,  2.4643e-01,\n",
      "        -5.6152e-02, -1.0406e-01,  1.2091e-03, -2.6862e-03,  9.6650e-02,\n",
      "         1.4251e-01,  2.2154e-01,  1.7320e-01,  1.1677e-01, -3.1529e-02,\n",
      "        -7.6060e-03,  3.8035e-02,  1.4094e-01,  9.5591e-02,  1.0830e-01,\n",
      "         6.3050e-03,  1.1269e-02,  3.9666e-02,  1.4823e-02,  5.9343e-02,\n",
      "         1.1076e-01,  3.7738e-02,  6.2343e-02, -4.0088e-02,  1.2554e-02,\n",
      "        -8.2139e-02,  1.2528e-01,  1.4084e-02,  1.7010e-01,  1.6128e-01,\n",
      "        -2.1508e-02, -1.2084e-01, -7.2045e-02,  2.1752e-01,  2.0286e-01,\n",
      "         9.4102e-02,  8.4664e-02, -1.3767e-02,  1.2323e-01,  1.6596e-01,\n",
      "         9.2594e-02,  1.1634e-01, -3.8575e-03, -5.2182e-02,  1.4885e-01,\n",
      "         1.6144e-01,  2.0584e-01,  2.5120e-02,  7.1334e-02, -4.4059e-03,\n",
      "         2.0209e-01,  5.7729e-02, -3.0348e-02,  4.3816e-02,  5.2438e-02,\n",
      "         3.6279e-02,  1.4706e-01,  2.0598e-01,  7.5350e-02,  2.1088e-01,\n",
      "         1.4988e-01,  1.5449e-01,  8.7105e-02,  8.7719e-02,  8.8442e-02],\n",
      "       device='cuda:0') torch.Size([400])\n",
      "lstm2.bias_hh_l0_reverse tensor([-6.9698e-02,  1.2508e-01, -3.7817e-02,  1.0961e-01,  1.1191e-01,\n",
      "         7.3527e-02,  2.8709e-02,  5.3084e-02, -4.0241e-02,  1.2695e-01,\n",
      "        -4.8390e-02,  9.3412e-03,  1.0358e-01,  7.8191e-03,  7.4863e-02,\n",
      "         9.7444e-02,  1.0786e-01, -2.4196e-02,  8.6749e-02,  4.7341e-02,\n",
      "         3.7650e-02, -5.1332e-02, -1.9485e-02,  1.0772e-01,  1.5665e-02,\n",
      "         7.4467e-02, -5.2108e-02, -5.2636e-02,  6.8253e-02,  5.6197e-02,\n",
      "         6.5924e-02, -3.3115e-02, -2.5588e-02,  7.0635e-02,  1.0914e-01,\n",
      "         4.5779e-03, -2.9677e-02,  6.6958e-02, -6.0741e-02,  1.3778e-01,\n",
      "         1.1937e-01, -1.3649e-03,  1.6009e-02,  2.1607e-02, -9.0019e-03,\n",
      "         6.8393e-02, -8.4591e-02, -3.6083e-03, -2.3986e-02,  6.6729e-02,\n",
      "         5.3269e-02, -5.2244e-02,  1.7166e-01,  2.6147e-02,  1.6533e-02,\n",
      "         7.1015e-02, -3.4003e-02,  1.1248e-01, -2.9172e-02,  2.5317e-02,\n",
      "        -1.6408e-02,  7.0534e-02,  3.0097e-02,  1.5460e-02,  1.0101e-01,\n",
      "        -1.2975e-02,  7.2267e-02,  6.7410e-03,  1.3427e-01,  1.9830e-01,\n",
      "         9.6966e-02,  1.1071e-01,  7.4446e-02, -2.7341e-02,  1.1861e-01,\n",
      "         1.0830e-01,  1.0192e-01,  7.6889e-03, -3.6693e-02, -2.4627e-02,\n",
      "         7.9420e-02, -2.5381e-02,  3.9778e-02, -5.8403e-02,  7.3384e-02,\n",
      "         3.8721e-02,  2.3786e-02,  1.5679e-02,  1.6275e-02,  6.9826e-02,\n",
      "        -5.4826e-02,  8.4037e-02,  5.6329e-02,  7.9230e-02,  6.3890e-02,\n",
      "         1.9773e-01, -1.8837e-02,  5.6684e-02, -4.9458e-02, -1.7169e-02,\n",
      "         9.7342e-02, -3.4598e-02,  5.9966e-02, -3.7458e-02,  4.1309e-03,\n",
      "         7.3771e-02,  2.5835e-02,  5.0989e-02,  6.5089e-02, -1.0778e-02,\n",
      "         1.0294e-02,  7.8300e-02,  6.2943e-03, -7.5366e-03,  9.4842e-02,\n",
      "         1.0200e-01, -5.4430e-02,  1.0797e-01,  6.9972e-02,  2.6076e-02,\n",
      "         5.9537e-02, -3.0692e-02, -1.1536e-02, -6.9371e-02,  3.1843e-02,\n",
      "         6.3064e-02,  1.1869e-02, -1.1449e-03, -1.0483e-01,  5.0522e-02,\n",
      "        -3.4002e-02,  8.8042e-02,  5.0335e-02,  2.8210e-02, -6.2712e-02,\n",
      "         7.3377e-02,  5.4541e-02, -4.7546e-03, -4.6576e-02,  2.7331e-02,\n",
      "         6.8485e-02,  1.1889e-01,  1.1313e-01,  8.9823e-02, -4.5109e-03,\n",
      "        -5.9386e-02, -6.1394e-02,  5.3211e-02,  8.6221e-03,  1.0653e-01,\n",
      "         5.9508e-02, -1.9691e-02, -1.1096e-01,  9.5619e-02,  6.1800e-03,\n",
      "         1.2845e-02,  6.7748e-02,  1.0858e-01,  1.1468e-01, -1.2696e-02,\n",
      "        -3.9056e-02,  1.5834e-02, -3.1033e-02, -5.1990e-02, -6.2129e-03,\n",
      "         5.1114e-03, -3.6844e-02,  1.8812e-02, -3.1089e-02,  1.3071e-04,\n",
      "         9.3431e-02,  5.5105e-02, -3.7126e-03,  5.4474e-02,  8.0100e-02,\n",
      "         6.4672e-02,  1.2571e-01,  1.0555e-01, -3.5361e-02,  1.1513e-01,\n",
      "         6.5912e-02,  1.0201e-01, -3.3846e-02,  1.0835e-02,  4.9919e-02,\n",
      "         7.7754e-02,  9.1175e-02, -2.7140e-02,  1.0097e-01,  2.6044e-02,\n",
      "         3.6432e-02,  1.0508e-01,  7.0980e-02, -2.3108e-03, -2.4676e-01,\n",
      "        -9.0732e-03,  9.0042e-02,  9.8638e-02,  1.4158e-02, -2.9363e-02,\n",
      "        -9.1884e-03,  3.9633e-02, -6.1767e-02, -1.0005e-01,  5.6526e-02,\n",
      "         6.5738e-03, -1.2591e-01, -9.7919e-02, -4.7994e-02, -4.0646e-02,\n",
      "        -9.1855e-02,  1.1146e-01,  6.9478e-02,  1.6217e-02,  4.6171e-02,\n",
      "        -6.0946e-03, -5.9873e-02, -1.1494e-03,  4.5114e-02, -4.9283e-02,\n",
      "         7.2828e-02,  2.1517e-02,  5.1293e-02,  1.1225e-01, -7.2103e-02,\n",
      "        -5.0345e-02, -2.7054e-02, -5.7460e-02,  7.9299e-02,  8.1969e-02,\n",
      "         1.6609e-03, -1.2613e-01, -1.8944e-02,  3.7275e-02,  8.3708e-02,\n",
      "         1.4477e-02, -9.6888e-02, -3.5868e-02, -6.1684e-02, -1.3791e-02,\n",
      "        -6.0917e-02,  5.1420e-02, -6.6939e-02, -1.1222e-01, -1.0661e-01,\n",
      "         7.5505e-02,  1.0547e-01, -9.1672e-02,  6.1338e-02, -1.0279e-01,\n",
      "        -4.7889e-03,  9.0183e-02,  1.3357e-01, -5.6085e-02,  1.8654e-02,\n",
      "         2.6364e-02,  1.8658e-02, -4.5516e-03,  4.9247e-02,  4.7784e-02,\n",
      "         6.4920e-02,  6.3432e-02,  6.0734e-02, -9.1738e-02,  2.0492e-02,\n",
      "        -5.0631e-02, -1.2375e-01, -9.2206e-02,  5.3233e-03,  4.5167e-02,\n",
      "         8.5335e-02,  1.2836e-01,  4.6974e-02,  4.0711e-02, -1.1467e-01,\n",
      "        -1.0918e-01,  7.5764e-02, -5.2782e-02,  3.1062e-02,  6.6096e-02,\n",
      "         1.1525e-01, -7.7612e-02, -1.3837e-02, -1.6287e-02,  5.1720e-02,\n",
      "        -3.5851e-02,  3.3512e-02,  8.1267e-02, -6.4203e-02, -3.0439e-03,\n",
      "         1.9201e-04, -4.8023e-02,  9.5134e-02, -8.4383e-02, -9.5120e-02,\n",
      "        -5.2805e-02, -3.8734e-02,  1.7271e-02, -2.7256e-03, -9.4291e-02,\n",
      "         1.1023e-01,  9.6392e-02,  8.5998e-02,  7.5556e-02,  1.3851e-01,\n",
      "         1.0377e-03,  2.6434e-01,  7.1493e-02,  1.8684e-01,  7.3734e-03,\n",
      "        -3.4047e-02, -1.1950e-02,  1.8351e-01, -9.9684e-03,  3.9193e-02,\n",
      "         4.8708e-02,  2.2994e-01,  3.8112e-02,  3.2857e-02,  1.4496e-02,\n",
      "        -2.7183e-02,  2.1579e-02, -2.1300e-02,  1.0341e-01,  6.0727e-02,\n",
      "        -3.2323e-02, -5.3144e-02,  2.7119e-01,  1.6763e-01,  1.2204e-01,\n",
      "         1.7723e-01, -1.2781e-01,  6.1383e-02,  6.6945e-02,  2.8339e-01,\n",
      "        -8.9372e-02, -1.4809e-01, -8.5294e-02, -3.5010e-03, -6.6353e-03,\n",
      "         1.0614e-01,  1.7678e-01,  2.2475e-01,  7.7902e-02, -1.2223e-02,\n",
      "        -1.2175e-01, -2.9452e-02,  9.6690e-02, -7.4121e-02,  1.6209e-01,\n",
      "         1.3137e-01, -3.4114e-02,  8.7647e-02, -1.1869e-01,  1.4309e-01,\n",
      "         1.2531e-01,  6.6936e-02, -4.6605e-03,  7.7586e-03,  5.8851e-02,\n",
      "        -1.5025e-01,  1.8475e-01, -1.1655e-01,  2.1937e-01,  3.8785e-02,\n",
      "         1.0504e-01, -2.3639e-01, -1.2837e-01,  9.3567e-02,  8.4611e-02,\n",
      "        -3.9651e-02,  1.1861e-04,  6.3559e-02,  1.5476e-01,  2.2755e-01,\n",
      "         1.3331e-01,  7.2916e-02, -4.5058e-02,  1.0239e-01,  1.5986e-01,\n",
      "         1.7232e-01,  6.6853e-02, -2.9751e-02,  8.1277e-02,  1.0157e-01,\n",
      "         2.0297e-01,  1.4933e-01, -7.2162e-02,  1.4175e-01, -8.3686e-02,\n",
      "        -7.3013e-02,  1.6069e-01,  5.0819e-02,  2.4140e-02,  1.7172e-01,\n",
      "         2.1201e-01,  1.5820e-01,  6.7882e-03,  1.0595e-01, -5.6989e-02],\n",
      "       device='cuda:0') torch.Size([400])\n",
      "linear1.weight tensor([[-0.0264, -0.0119, -0.0532,  ...,  0.0036,  0.0287, -0.0154],\n",
      "        [ 0.0163,  0.0082, -0.0565,  ..., -0.0120, -0.0544, -0.0328],\n",
      "        [ 0.0113, -0.0393, -0.0239,  ..., -0.0054, -0.0409,  0.0422],\n",
      "        ...,\n",
      "        [ 0.0396,  0.0313,  0.0014,  ...,  0.0526,  0.0095,  0.0511],\n",
      "        [-0.0082, -0.0316, -0.0052,  ..., -0.0005,  0.0508, -0.0098],\n",
      "        [-0.0498,  0.0443,  0.0542,  ..., -0.0177,  0.0552,  0.0341]],\n",
      "       device='cuda:0') torch.Size([100, 300])\n",
      "linear1.bias tensor([-1.6064e-02,  3.4111e-03,  5.9284e-03,  2.7480e-02, -1.2396e-02,\n",
      "        -9.6824e-03, -1.5066e-02, -5.5935e-04, -4.9274e-02, -4.7648e-05,\n",
      "        -3.8829e-02,  6.4433e-03, -4.2944e-02,  2.3928e-02,  4.3809e-02,\n",
      "        -2.6148e-03,  4.8931e-02,  4.5948e-02, -2.1119e-02, -5.6418e-02,\n",
      "        -5.5856e-02,  3.8307e-02,  3.0574e-03, -4.0212e-02, -4.5510e-02,\n",
      "        -5.2824e-02,  4.0728e-02,  5.5616e-02,  4.5982e-03, -2.1329e-03,\n",
      "        -2.1536e-02,  4.4636e-02, -5.4346e-02,  3.1049e-02,  3.7640e-03,\n",
      "         9.4656e-03, -2.7443e-02, -2.7725e-02, -5.3962e-03, -3.0533e-02,\n",
      "        -1.1521e-02,  9.5510e-03,  5.4499e-02, -2.7548e-03,  1.1896e-02,\n",
      "         4.0945e-02, -3.6066e-02,  2.5010e-02, -4.8706e-02, -2.7853e-02,\n",
      "        -1.2257e-02,  1.9579e-02,  1.4709e-02,  5.5733e-02,  2.1940e-02,\n",
      "        -2.3673e-02, -1.4892e-03, -2.5503e-02, -4.7608e-02, -5.6855e-03,\n",
      "        -5.1092e-02, -5.7590e-02,  8.7439e-03, -3.4190e-02, -2.9206e-03,\n",
      "        -1.7950e-02,  2.9427e-02, -4.3507e-02, -3.7368e-02, -3.8189e-02,\n",
      "        -2.5656e-02, -2.8735e-02, -4.9383e-02,  5.2623e-03, -1.7309e-02,\n",
      "        -4.6748e-02, -3.3905e-02,  1.6174e-02,  5.2921e-02, -6.3643e-04,\n",
      "        -2.2304e-02, -5.7494e-02, -4.3885e-02, -5.1314e-02, -4.5445e-02,\n",
      "        -5.7145e-02,  3.4694e-02, -4.0493e-02,  2.3719e-03, -1.4310e-02,\n",
      "        -1.7638e-02, -5.3624e-02, -5.6700e-02,  3.5199e-02, -1.0524e-02,\n",
      "        -3.0396e-02,  7.8878e-03, -2.5175e-02,  7.2660e-03, -4.2831e-02],\n",
      "       device='cuda:0') torch.Size([100])\n",
      "linear_out.weight tensor([[-0.1029,  0.1542, -0.2931,  ..., -0.2974, -0.3896,  0.1412],\n",
      "        [-0.4065,  0.2753, -0.1609,  ..., -0.2082, -0.2223, -0.2135],\n",
      "        [-0.2936, -0.0084, -1.5207,  ..., -2.2135,  0.0393,  0.3011],\n",
      "        ...,\n",
      "        [-0.1596,  0.1031, -0.2528,  ..., -0.3595, -0.4124,  0.1053],\n",
      "        [-0.1672,  0.0648, -1.3795,  ...,  0.0711, -0.0538,  0.2273],\n",
      "        [-0.0895,  0.0816, -0.6155,  ..., -2.6074,  0.0708,  0.5322]],\n",
      "       device='cuda:0') torch.Size([10394, 200])\n",
      "linear_out.bias tensor([-0.3850, -0.4677,  0.0324,  ..., -0.4125,  0.0107, -0.0747],\n",
      "       device='cuda:0') torch.Size([10394])\n"
     ]
    }
   ],
   "source": [
    "# Parameters\n",
    "for name, param in elmo.named_parameters():\n",
    "    if param.requires_grad:\n",
    "        print(name, param.data, param.shape)\n",
    "elmo_embeddings = list(elmo.parameters())[0].cpu().detach().numpy()\n",
    "torch.save(elmo_embeddings, 'elmo_embeddings2.pt')\n"
   ]
  },
  {
   "cell_type": "code",
   "execution_count": 17,
   "metadata": {},
   "outputs": [
    {
     "name": "stdout",
     "output_type": "stream",
     "text": [
      "<generator object Module.parameters at 0x7f91dc0c2f10>\n",
      "<generator object Module.parameters at 0x7f91dc0c2f10>\n"
     ]
    }
   ],
   "source": [
    "elmo_lstm1 = elmo.lstm1\n",
    "print(elmo_lstm1.parameters())\n",
    "elmo_lstm2 = elmo.lstm2\n",
    "print(elmo_lstm2.parameters())\n",
    "elmo_embeddings = list(elmo.parameters())[0].to(device)\n"
   ]
  },
  {
   "cell_type": "code",
   "execution_count": 18,
   "metadata": {},
   "outputs": [],
   "source": [
    "from sklearn.metrics import f1_score, confusion_matrix,accuracy_score\n",
    "class scoreClassifier(nn.Module):\n",
    "    def __init__(self,vocab_size,embedding_dim,hidden_dim,elmoEmbedding,elmo_lstm1,elmo_lstm2,num_classes):\n",
    "        super(scoreClassifier,self).__init__()\n",
    "        self.vocab_size = vocab_size\n",
    "        self.embedding_dim = embedding_dim\n",
    "        self.hidden_dim = hidden_dim\n",
    "        self.embeddings = nn.Embedding.from_pretrained(elmoEmbedding, padding_idx=0)\n",
    "        self.embeddings.weight = nn.Parameter(self.embeddings.weight,requires_grad=\n",
    "                                              False)\n",
    "        self.weights = nn.Parameter(torch.tensor([0.33,0.33,0.33]),requires_grad=False)\n",
    "        self.lstm1 = elmo_lstm1\n",
    "        self.lstm2 = elmo_lstm2\n",
    "        self.linear1 = nn.Linear(embedding_dim, hidden_dim*2)\n",
    "        self.linear_out = nn.Linear(hidden_dim*2, num_classes)\n",
    "        self.dropout = nn.Dropout(0.5)\n",
    "\n",
    "    def forward(self,input_data):\n",
    "        embed = self.embeddings(input_data)\n",
    "        embedChange = self.linear1(embed)\n",
    "        lstm1, _ = self.lstm1(embed)\n",
    "        lstm2, _ = self.lstm2(lstm1)\n",
    "        elmo_out = (self.weights[0]*lstm1 + self.weights[1]*lstm2 + self.weights[2]*embedChange)/(self.weights[0]+self.weights[1]+self.weights[2])\n",
    "        elmo_max = torch.max(elmo_out, dim=1)[0]\n",
    "        elmo_max = self.dropout(elmo_max)\n",
    "        linear_out = self.linear_out(elmo_max)\n",
    "\n",
    "        l2_reg = torch.tensor(0.).to(device)\n",
    "        for param in self.linear1.parameters():\n",
    "            l2_reg += torch.norm(param,2)\n",
    "        for param in self.linear_out.parameters():\n",
    "            l2_reg += torch.norm(param,2)\n",
    "\n",
    "        # scores = self.relu(linear_out)\n",
    "        return linear_out, l2_reg\n"
   ]
  },
  {
   "cell_type": "code",
   "execution_count": 19,
   "metadata": {},
   "outputs": [
    {
     "name": "stdout",
     "output_type": "stream",
     "text": [
      "scoreClassifier(\n",
      "  (embeddings): Embedding(10394, 300, padding_idx=0)\n",
      "  (lstm1): LSTM(300, 100, batch_first=True, bidirectional=True)\n",
      "  (lstm2): LSTM(200, 100, batch_first=True, bidirectional=True)\n",
      "  (linear1): Linear(in_features=300, out_features=200, bias=True)\n",
      "  (linear_out): Linear(in_features=200, out_features=3, bias=True)\n",
      "  (dropout): Dropout(p=0.5, inplace=False)\n",
      ")\n"
     ]
    }
   ],
   "source": [
    "classifier = scoreClassifier(VOCAB_SIZE, EMBEDDING_DIM, HIDDEN_DIM, elmo_embeddings, elmo_lstm1, elmo_lstm2, 3)\n",
    "print(classifier)"
   ]
  },
  {
   "cell_type": "code",
   "execution_count": 20,
   "metadata": {},
   "outputs": [],
   "source": [
    "classifier.to(device)\n",
    "#Initializing optimizer\n",
    "optimizer = optim.Adam(classifier.parameters(), lr=0.001)\n",
    "#Initializing loss function\n",
    "criterion = nn.CrossEntropyLoss()\n",
    "\n"
   ]
  },
  {
   "cell_type": "code",
   "execution_count": 21,
   "metadata": {},
   "outputs": [
    {
     "name": "stdout",
     "output_type": "stream",
     "text": [
      "Epoch: 0\n"
     ]
    },
    {
     "name": "stderr",
     "output_type": "stream",
     "text": [
      "Training:  63%|██████▎   | 1001/1577 [01:18<00:50, 11.45it/s]"
     ]
    },
    {
     "name": "stdout",
     "output_type": "stream",
     "text": [
      "Iteration: 1000, Train Loss: 1.088045358657837\n"
     ]
    },
    {
     "name": "stderr",
     "output_type": "stream",
     "text": [
      "Training: 100%|██████████| 1577/1577 [02:09<00:00, 12.21it/s]\n",
      "Validation:  82%|████████▏ | 504/614 [00:15<00:03, 31.81it/s]"
     ]
    },
    {
     "name": "stdout",
     "output_type": "stream",
     "text": [
      "Iteration: 500, Validation Loss: 1.0504320859909058\n"
     ]
    },
    {
     "name": "stderr",
     "output_type": "stream",
     "text": [
      "Validation: 100%|██████████| 614/614 [00:18<00:00, 32.91it/s]\n"
     ]
    },
    {
     "name": "stdout",
     "output_type": "stream",
     "text": [
      "Saving model...\n",
      "Train Loss: 1.089786513855583, Train Accuracy: 0.4126109701965758\n",
      "Validation Loss: 1.0637284170727, Validation Accuracy: 0.43873604001861327\n",
      "Epoch: 1\n"
     ]
    },
    {
     "name": "stderr",
     "output_type": "stream",
     "text": [
      "Training:  63%|██████▎   | 1001/1577 [01:48<01:12,  7.99it/s]"
     ]
    },
    {
     "name": "stdout",
     "output_type": "stream",
     "text": [
      "Iteration: 1000, Train Loss: 0.968433141708374\n"
     ]
    },
    {
     "name": "stderr",
     "output_type": "stream",
     "text": [
      "Training: 100%|██████████| 1577/1577 [02:52<00:00,  9.16it/s]\n",
      "Validation:  82%|████████▏ | 503/614 [00:17<00:03, 30.07it/s]"
     ]
    },
    {
     "name": "stdout",
     "output_type": "stream",
     "text": [
      "Iteration: 500, Validation Loss: 1.0869174003601074\n"
     ]
    },
    {
     "name": "stderr",
     "output_type": "stream",
     "text": [
      "Validation: 100%|██████████| 614/614 [00:20<00:00, 29.58it/s]\n"
     ]
    },
    {
     "name": "stdout",
     "output_type": "stream",
     "text": [
      "Saving model...\n",
      "Train Loss: 1.0576217077015773, Train Accuracy: 0.46092263792010146\n",
      "Validation Loss: 1.0588408991063456, Validation Accuracy: 0.4431421591437878\n",
      "Epoch: 2\n"
     ]
    },
    {
     "name": "stderr",
     "output_type": "stream",
     "text": [
      "Training:  63%|██████▎   | 1001/1577 [01:38<00:56, 10.16it/s]"
     ]
    },
    {
     "name": "stdout",
     "output_type": "stream",
     "text": [
      "Iteration: 1000, Train Loss: 0.9333668351173401\n"
     ]
    },
    {
     "name": "stderr",
     "output_type": "stream",
     "text": [
      "Training: 100%|██████████| 1577/1577 [02:48<00:00,  9.36it/s]\n",
      "Validation:  82%|████████▏ | 503/614 [00:23<00:04, 23.76it/s]"
     ]
    },
    {
     "name": "stdout",
     "output_type": "stream",
     "text": [
      "Iteration: 500, Validation Loss: 1.1364363431930542\n"
     ]
    },
    {
     "name": "stderr",
     "output_type": "stream",
     "text": [
      "Validation: 100%|██████████| 614/614 [00:28<00:00, 21.81it/s]\n"
     ]
    },
    {
     "name": "stdout",
     "output_type": "stream",
     "text": [
      "Saving model...\n",
      "Train Loss: 1.0415095099181257, Train Accuracy: 0.4759432466708941\n",
      "Validation Loss: 1.04403480984489, Validation Accuracy: 0.45556072591903213\n",
      "Epoch: 3\n"
     ]
    },
    {
     "name": "stderr",
     "output_type": "stream",
     "text": [
      "Training:  64%|██████▎   | 1002/1577 [01:59<00:55, 10.39it/s]"
     ]
    },
    {
     "name": "stdout",
     "output_type": "stream",
     "text": [
      "Iteration: 1000, Train Loss: 0.9904614686965942\n"
     ]
    },
    {
     "name": "stderr",
     "output_type": "stream",
     "text": [
      "Training: 100%|██████████| 1577/1577 [02:58<00:00,  8.85it/s]\n",
      "Validation:  82%|████████▏ | 504/614 [00:16<00:03, 29.92it/s]"
     ]
    },
    {
     "name": "stdout",
     "output_type": "stream",
     "text": [
      "Iteration: 500, Validation Loss: 1.1408872604370117\n"
     ]
    },
    {
     "name": "stderr",
     "output_type": "stream",
     "text": [
      "Validation: 100%|██████████| 614/614 [00:20<00:00, 29.80it/s]\n"
     ]
    },
    {
     "name": "stdout",
     "output_type": "stream",
     "text": [
      "Saving model...\n",
      "Train Loss: 1.0206241776993097, Train Accuracy: 0.49829581483830054\n",
      "Validation Loss: 1.0355752716235307, Validation Accuracy: 0.468822708236389\n",
      "Epoch: 4\n"
     ]
    },
    {
     "name": "stderr",
     "output_type": "stream",
     "text": [
      "Training:  63%|██████▎   | 1000/1577 [01:40<00:58,  9.86it/s]"
     ]
    },
    {
     "name": "stdout",
     "output_type": "stream",
     "text": [
      "Iteration: 1000, Train Loss: 1.0592377185821533\n"
     ]
    },
    {
     "name": "stderr",
     "output_type": "stream",
     "text": [
      "Training: 100%|██████████| 1577/1577 [02:39<00:00,  9.90it/s]\n",
      "Validation:  82%|████████▏ | 506/614 [00:16<00:03, 29.90it/s]"
     ]
    },
    {
     "name": "stdout",
     "output_type": "stream",
     "text": [
      "Iteration: 500, Validation Loss: 1.1307392120361328\n"
     ]
    },
    {
     "name": "stderr",
     "output_type": "stream",
     "text": [
      "Validation: 100%|██████████| 614/614 [00:20<00:00, 29.85it/s]\n"
     ]
    },
    {
     "name": "stdout",
     "output_type": "stream",
     "text": [
      "Saving model...\n",
      "Train Loss: 1.0043412014964872, Train Accuracy: 0.5111366518706405\n",
      "Validation Loss: 1.021337563711968, Validation Accuracy: 0.48375697999069334\n",
      "Epoch: 5\n"
     ]
    },
    {
     "name": "stderr",
     "output_type": "stream",
     "text": [
      "Training:  63%|██████▎   | 1001/1577 [01:43<00:59,  9.68it/s]"
     ]
    },
    {
     "name": "stdout",
     "output_type": "stream",
     "text": [
      "Iteration: 1000, Train Loss: 0.9088965058326721\n"
     ]
    },
    {
     "name": "stderr",
     "output_type": "stream",
     "text": [
      "Training: 100%|██████████| 1577/1577 [02:42<00:00,  9.69it/s]\n",
      "Validation:  82%|████████▏ | 505/614 [00:16<00:03, 29.44it/s]"
     ]
    },
    {
     "name": "stdout",
     "output_type": "stream",
     "text": [
      "Iteration: 500, Validation Loss: 1.1027864217758179\n"
     ]
    },
    {
     "name": "stderr",
     "output_type": "stream",
     "text": [
      "Validation: 100%|██████████| 614/614 [00:20<00:00, 29.75it/s]\n"
     ]
    },
    {
     "name": "stdout",
     "output_type": "stream",
     "text": [
      "Saving model...\n",
      "Train Loss: 0.9863987704130691, Train Accuracy: 0.5294071020925808\n",
      "Validation Loss: 1.0202156558681388, Validation Accuracy: 0.48212831549557933\n",
      "Epoch: 6\n"
     ]
    },
    {
     "name": "stderr",
     "output_type": "stream",
     "text": [
      "Training:  63%|██████▎   | 1001/1577 [01:43<00:59,  9.63it/s]"
     ]
    },
    {
     "name": "stdout",
     "output_type": "stream",
     "text": [
      "Iteration: 1000, Train Loss: 1.0335534811019897\n"
     ]
    },
    {
     "name": "stderr",
     "output_type": "stream",
     "text": [
      "Training: 100%|██████████| 1577/1577 [02:43<00:00,  9.64it/s]\n",
      "Validation:  82%|████████▏ | 504/614 [00:17<00:03, 29.00it/s]"
     ]
    },
    {
     "name": "stdout",
     "output_type": "stream",
     "text": [
      "Iteration: 500, Validation Loss: 1.0516929626464844\n"
     ]
    },
    {
     "name": "stderr",
     "output_type": "stream",
     "text": [
      "Validation: 100%|██████████| 614/614 [00:21<00:00, 29.02it/s]\n"
     ]
    },
    {
     "name": "stdout",
     "output_type": "stream",
     "text": [
      "Train Loss: 0.9714187198828199, Train Accuracy: 0.5417327203551047\n",
      "Validation Loss: 1.0268686040993233, Validation Accuracy: 0.47991798510935313\n",
      "Epoch: 7\n"
     ]
    },
    {
     "name": "stderr",
     "output_type": "stream",
     "text": [
      "Training:  63%|██████▎   | 1001/1577 [01:54<01:03,  9.04it/s]"
     ]
    },
    {
     "name": "stdout",
     "output_type": "stream",
     "text": [
      "Iteration: 1000, Train Loss: 0.9987518787384033\n"
     ]
    },
    {
     "name": "stderr",
     "output_type": "stream",
     "text": [
      "Training: 100%|██████████| 1577/1577 [03:02<00:00,  8.62it/s]\n",
      "Validation:  82%|████████▏ | 504/614 [00:18<00:04, 26.93it/s]"
     ]
    },
    {
     "name": "stdout",
     "output_type": "stream",
     "text": [
      "Iteration: 500, Validation Loss: 0.9914430975914001\n"
     ]
    },
    {
     "name": "stderr",
     "output_type": "stream",
     "text": [
      "Validation: 100%|██████████| 614/614 [00:22<00:00, 26.86it/s]\n"
     ]
    },
    {
     "name": "stdout",
     "output_type": "stream",
     "text": [
      "Train Loss: 0.949927386484648, Train Accuracy: 0.559289790741915\n",
      "Validation Loss: 1.026165049025601, Validation Accuracy: 0.4833207305723592\n",
      "Epoch: 8\n"
     ]
    },
    {
     "name": "stderr",
     "output_type": "stream",
     "text": [
      "Training:  63%|██████▎   | 1001/1577 [01:56<01:07,  8.57it/s]"
     ]
    },
    {
     "name": "stdout",
     "output_type": "stream",
     "text": [
      "Iteration: 1000, Train Loss: 0.8761202692985535\n"
     ]
    },
    {
     "name": "stderr",
     "output_type": "stream",
     "text": [
      "Training: 100%|██████████| 1577/1577 [03:05<00:00,  8.49it/s]\n",
      "Validation:  82%|████████▏ | 504/614 [00:20<00:04, 24.44it/s]"
     ]
    },
    {
     "name": "stdout",
     "output_type": "stream",
     "text": [
      "Iteration: 500, Validation Loss: 0.9859548807144165\n"
     ]
    },
    {
     "name": "stderr",
     "output_type": "stream",
     "text": [
      "Validation: 100%|██████████| 614/614 [00:24<00:00, 24.68it/s]\n"
     ]
    },
    {
     "name": "stdout",
     "output_type": "stream",
     "text": [
      "Train Loss: 0.9336738029309444, Train Accuracy: 0.5741518706404566\n",
      "Validation Loss: 1.022763062474782, Validation Accuracy: 0.48823580735225686\n",
      "Epoch: 9\n"
     ]
    },
    {
     "name": "stderr",
     "output_type": "stream",
     "text": [
      "Training:  63%|██████▎   | 1001/1577 [02:07<01:13,  7.84it/s]"
     ]
    },
    {
     "name": "stdout",
     "output_type": "stream",
     "text": [
      "Iteration: 1000, Train Loss: 0.9779234528541565\n"
     ]
    },
    {
     "name": "stderr",
     "output_type": "stream",
     "text": [
      "Training: 100%|██████████| 1577/1577 [03:21<00:00,  7.84it/s]\n",
      "Validation:  82%|████████▏ | 504/614 [00:20<00:04, 23.86it/s]"
     ]
    },
    {
     "name": "stdout",
     "output_type": "stream",
     "text": [
      "Iteration: 500, Validation Loss: 1.0036139488220215\n"
     ]
    },
    {
     "name": "stderr",
     "output_type": "stream",
     "text": [
      "Validation: 100%|██████████| 614/614 [00:25<00:00, 23.87it/s]\n"
     ]
    },
    {
     "name": "stdout",
     "output_type": "stream",
     "text": [
      "Train Loss: 0.9146559360893602, Train Accuracy: 0.5873890298034242\n",
      "Validation Loss: 1.0412883885714441, Validation Accuracy: 0.4819683573755235\n",
      "Epoch: 10\n"
     ]
    },
    {
     "name": "stderr",
     "output_type": "stream",
     "text": [
      "Training:  63%|██████▎   | 1001/1577 [02:09<01:06,  8.67it/s]"
     ]
    },
    {
     "name": "stdout",
     "output_type": "stream",
     "text": [
      "Iteration: 1000, Train Loss: 0.9260147213935852\n"
     ]
    },
    {
     "name": "stderr",
     "output_type": "stream",
     "text": [
      "Training: 100%|██████████| 1577/1577 [03:16<00:00,  8.03it/s]\n",
      "Validation:  82%|████████▏ | 504/614 [00:18<00:04, 27.13it/s]"
     ]
    },
    {
     "name": "stdout",
     "output_type": "stream",
     "text": [
      "Iteration: 500, Validation Loss: 0.9292402863502502\n"
     ]
    },
    {
     "name": "stderr",
     "output_type": "stream",
     "text": [
      "Validation: 100%|██████████| 614/614 [00:22<00:00, 27.12it/s]\n"
     ]
    },
    {
     "name": "stdout",
     "output_type": "stream",
     "text": [
      "Train Loss: 0.8907365781752914, Train Accuracy: 0.6034004438807863\n",
      "Validation Loss: 1.0312746970001183, Validation Accuracy: 0.49146405304792923\n",
      "Epoch: 11\n"
     ]
    },
    {
     "name": "stderr",
     "output_type": "stream",
     "text": [
      "Training:  63%|██████▎   | 1001/1577 [01:55<01:06,  8.65it/s]"
     ]
    },
    {
     "name": "stdout",
     "output_type": "stream",
     "text": [
      "Iteration: 1000, Train Loss: 0.8119637370109558\n"
     ]
    },
    {
     "name": "stderr",
     "output_type": "stream",
     "text": [
      "Training: 100%|██████████| 1577/1577 [03:00<00:00,  8.73it/s]\n",
      "Validation:  82%|████████▏ | 505/614 [00:18<00:04, 25.03it/s]"
     ]
    },
    {
     "name": "stdout",
     "output_type": "stream",
     "text": [
      "Iteration: 500, Validation Loss: 0.9579601287841797\n"
     ]
    },
    {
     "name": "stderr",
     "output_type": "stream",
     "text": [
      "Validation: 100%|██████████| 614/614 [00:22<00:00, 27.54it/s]\n"
     ]
    },
    {
     "name": "stdout",
     "output_type": "stream",
     "text": [
      "Train Loss: 0.8744326077198483, Train Accuracy: 0.6139426125554851\n",
      "Validation Loss: 1.0398310266605029, Validation Accuracy: 0.4883375988832015\n",
      "Epoch: 12\n"
     ]
    },
    {
     "name": "stderr",
     "output_type": "stream",
     "text": [
      "Training:  63%|██████▎   | 1001/1577 [01:54<01:05,  8.74it/s]"
     ]
    },
    {
     "name": "stdout",
     "output_type": "stream",
     "text": [
      "Iteration: 1000, Train Loss: 0.7856048345565796\n"
     ]
    },
    {
     "name": "stderr",
     "output_type": "stream",
     "text": [
      "Training: 100%|██████████| 1577/1577 [03:00<00:00,  8.74it/s]\n",
      "Validation:  82%|████████▏ | 504/614 [00:18<00:03, 27.60it/s]"
     ]
    },
    {
     "name": "stdout",
     "output_type": "stream",
     "text": [
      "Iteration: 500, Validation Loss: 0.9596471190452576\n"
     ]
    },
    {
     "name": "stderr",
     "output_type": "stream",
     "text": [
      "Validation: 100%|██████████| 614/614 [00:22<00:00, 27.46it/s]\n"
     ]
    },
    {
     "name": "stdout",
     "output_type": "stream",
     "text": [
      "Train Loss: 0.856863392896114, Train Accuracy: 0.6259908053265695\n",
      "Validation Loss: 1.0520462425795751, Validation Accuracy: 0.48683980921358766\n",
      "Epoch: 13\n"
     ]
    },
    {
     "name": "stderr",
     "output_type": "stream",
     "text": [
      "Training:  63%|██████▎   | 1001/1577 [01:54<01:05,  8.76it/s]"
     ]
    },
    {
     "name": "stdout",
     "output_type": "stream",
     "text": [
      "Iteration: 1000, Train Loss: 0.7993435263633728\n"
     ]
    },
    {
     "name": "stderr",
     "output_type": "stream",
     "text": [
      "Training: 100%|██████████| 1577/1577 [02:59<00:00,  8.77it/s]\n",
      "Validation:  82%|████████▏ | 504/614 [00:18<00:03, 27.70it/s]"
     ]
    },
    {
     "name": "stdout",
     "output_type": "stream",
     "text": [
      "Iteration: 500, Validation Loss: 0.9739694595336914\n"
     ]
    },
    {
     "name": "stderr",
     "output_type": "stream",
     "text": [
      "Validation: 100%|██████████| 614/614 [00:22<00:00, 27.60it/s]\n"
     ]
    },
    {
     "name": "stdout",
     "output_type": "stream",
     "text": [
      "Train Loss: 0.8270682887178323, Train Accuracy: 0.6448557387444515\n",
      "Validation Loss: 1.0848272724337997, Validation Accuracy: 0.4819974406700791\n",
      "Epoch: 14\n"
     ]
    },
    {
     "name": "stderr",
     "output_type": "stream",
     "text": [
      "Training:  64%|██████▎   | 1002/1577 [01:45<00:56, 10.12it/s]"
     ]
    },
    {
     "name": "stdout",
     "output_type": "stream",
     "text": [
      "Iteration: 1000, Train Loss: 0.9523743391036987\n"
     ]
    },
    {
     "name": "stderr",
     "output_type": "stream",
     "text": [
      "Training: 100%|██████████| 1577/1577 [02:49<00:00,  9.30it/s]\n",
      "Validation:  82%|████████▏ | 504/614 [00:18<00:04, 27.42it/s]"
     ]
    },
    {
     "name": "stdout",
     "output_type": "stream",
     "text": [
      "Iteration: 500, Validation Loss: 0.9560360908508301\n"
     ]
    },
    {
     "name": "stderr",
     "output_type": "stream",
     "text": [
      "Validation: 100%|██████████| 614/614 [00:22<00:00, 27.46it/s]\n"
     ]
    },
    {
     "name": "stdout",
     "output_type": "stream",
     "text": [
      "Train Loss: 0.8091439559214767, Train Accuracy: 0.6554375396322131\n",
      "Validation Loss: 1.0864994560856773, Validation Accuracy: 0.4772423220102373\n",
      "Epoch: 15\n"
     ]
    },
    {
     "name": "stderr",
     "output_type": "stream",
     "text": [
      "Training:  64%|██████▎   | 1002/1577 [01:44<00:57, 10.04it/s]"
     ]
    },
    {
     "name": "stdout",
     "output_type": "stream",
     "text": [
      "Iteration: 1000, Train Loss: 0.6394078731536865\n"
     ]
    },
    {
     "name": "stderr",
     "output_type": "stream",
     "text": [
      "Training: 100%|██████████| 1577/1577 [02:42<00:00,  9.71it/s]\n",
      "Validation:  82%|████████▏ | 506/614 [00:17<00:03, 29.79it/s]"
     ]
    },
    {
     "name": "stdout",
     "output_type": "stream",
     "text": [
      "Iteration: 500, Validation Loss: 0.968315839767456\n"
     ]
    },
    {
     "name": "stderr",
     "output_type": "stream",
     "text": [
      "Validation: 100%|██████████| 614/614 [00:20<00:00, 29.40it/s]\n"
     ]
    },
    {
     "name": "stdout",
     "output_type": "stream",
     "text": [
      "Train Loss: 0.7850682848831786, Train Accuracy: 0.6721227013316423\n",
      "Validation Loss: 1.1093610898873705, Validation Accuracy: 0.4766606561191251\n",
      "Epoch: 16\n"
     ]
    },
    {
     "name": "stderr",
     "output_type": "stream",
     "text": [
      "Training:  63%|██████▎   | 1001/1577 [01:43<00:59,  9.72it/s]"
     ]
    },
    {
     "name": "stdout",
     "output_type": "stream",
     "text": [
      "Iteration: 1000, Train Loss: 0.7439976930618286\n"
     ]
    },
    {
     "name": "stderr",
     "output_type": "stream",
     "text": [
      "Training: 100%|██████████| 1577/1577 [02:43<00:00,  9.65it/s]\n",
      "Validation:  82%|████████▏ | 505/614 [00:17<00:03, 29.26it/s]"
     ]
    },
    {
     "name": "stdout",
     "output_type": "stream",
     "text": [
      "Iteration: 500, Validation Loss: 1.0865638256072998\n"
     ]
    },
    {
     "name": "stderr",
     "output_type": "stream",
     "text": [
      "Validation: 100%|██████████| 614/614 [00:20<00:00, 29.68it/s]\n"
     ]
    },
    {
     "name": "stdout",
     "output_type": "stream",
     "text": [
      "Train Loss: 0.7633384560472842, Train Accuracy: 0.6821100190234622\n",
      "Validation Loss: 1.1135851680649997, Validation Accuracy: 0.4805723592368543\n",
      "Epoch: 17\n"
     ]
    },
    {
     "name": "stderr",
     "output_type": "stream",
     "text": [
      "Training:  63%|██████▎   | 1001/1577 [01:43<00:59,  9.65it/s]"
     ]
    },
    {
     "name": "stdout",
     "output_type": "stream",
     "text": [
      "Iteration: 1000, Train Loss: 0.7436643242835999\n"
     ]
    },
    {
     "name": "stderr",
     "output_type": "stream",
     "text": [
      "Training: 100%|██████████| 1577/1577 [02:43<00:00,  9.65it/s]\n",
      "Validation:  82%|████████▏ | 505/614 [00:17<00:03, 29.95it/s]"
     ]
    },
    {
     "name": "stdout",
     "output_type": "stream",
     "text": [
      "Iteration: 500, Validation Loss: 1.0248584747314453\n"
     ]
    },
    {
     "name": "stderr",
     "output_type": "stream",
     "text": [
      "Validation: 100%|██████████| 614/614 [00:20<00:00, 29.58it/s]\n"
     ]
    },
    {
     "name": "stdout",
     "output_type": "stream",
     "text": [
      "Train Loss: 0.7430285334624893, Train Accuracy: 0.6950301204819277\n",
      "Validation Loss: 1.1434644144210442, Validation Accuracy: 0.47884190321079567\n",
      "Epoch: 18\n"
     ]
    },
    {
     "name": "stderr",
     "output_type": "stream",
     "text": [
      "Training:  64%|██████▎   | 1002/1577 [01:42<00:55, 10.28it/s]"
     ]
    },
    {
     "name": "stdout",
     "output_type": "stream",
     "text": [
      "Iteration: 1000, Train Loss: 0.7255731821060181\n"
     ]
    },
    {
     "name": "stderr",
     "output_type": "stream",
     "text": [
      "Training: 100%|██████████| 1577/1577 [02:39<00:00,  9.90it/s]\n",
      "Validation:  82%|████████▏ | 503/614 [00:17<00:03, 28.91it/s]"
     ]
    },
    {
     "name": "stdout",
     "output_type": "stream",
     "text": [
      "Iteration: 500, Validation Loss: 1.1113193035125732\n"
     ]
    },
    {
     "name": "stderr",
     "output_type": "stream",
     "text": [
      "Validation: 100%|██████████| 614/614 [00:21<00:00, 28.49it/s]\n"
     ]
    },
    {
     "name": "stdout",
     "output_type": "stream",
     "text": [
      "Train Loss: 0.7153410579520233, Train Accuracy: 0.7104470513633482\n",
      "Validation Loss: 1.1493202100359268, Validation Accuracy: 0.4807759422987436\n",
      "Epoch: 19\n"
     ]
    },
    {
     "name": "stderr",
     "output_type": "stream",
     "text": [
      "Training:  63%|██████▎   | 1001/1577 [01:50<01:08,  8.45it/s]"
     ]
    },
    {
     "name": "stdout",
     "output_type": "stream",
     "text": [
      "Iteration: 1000, Train Loss: 0.4434320032596588\n"
     ]
    },
    {
     "name": "stderr",
     "output_type": "stream",
     "text": [
      "Training: 100%|██████████| 1577/1577 [02:58<00:00,  8.83it/s]\n",
      "Validation:  82%|████████▏ | 503/614 [00:17<00:03, 28.49it/s]"
     ]
    },
    {
     "name": "stdout",
     "output_type": "stream",
     "text": [
      "Iteration: 500, Validation Loss: 1.132580041885376\n"
     ]
    },
    {
     "name": "stderr",
     "output_type": "stream",
     "text": [
      "Validation: 100%|██████████| 614/614 [00:21<00:00, 28.32it/s]\n"
     ]
    },
    {
     "name": "stdout",
     "output_type": "stream",
     "text": [
      "Train Loss: 0.6846656315902705, Train Accuracy: 0.7265773620798985\n",
      "Validation Loss: 1.1650834594176724, Validation Accuracy: 0.4819974406700791\n"
     ]
    }
   ],
   "source": [
    "def train_classifier_epoch(model, train_dataloader, optimizer, criterion, device):\n",
    "    model.train()\n",
    "    train_loss = 0\n",
    "    iter = 0\n",
    "    total_acc = 0 \n",
    "    for batch in tqdm(train_dataloader,desc=\"Training\"):\n",
    "        optimizer.zero_grad()\n",
    "        batch = tuple(t.to(device) for t in batch)\n",
    "        input_data,labels,_,_ = batch\n",
    "        logits,l2_reg = model(input_data)\n",
    "        loss = criterion(logits, labels) + 0.001*l2_reg\n",
    "        loss.backward()\n",
    "        optimizer.step()\n",
    "        _,preds = torch.max(logits, dim=1)\n",
    "        train_acc = accuracy_score(labels.cpu().detach().numpy(), preds.cpu().detach().numpy())\n",
    "        total_acc += train_acc\n",
    "        train_loss += loss.item()\n",
    "        iter += 1\n",
    "        if iter % 1000 == 0:\n",
    "            print(\"Iteration: {}, Train Loss: {}\".format(iter, loss.item()))\n",
    "\n",
    "    return train_loss/len(train_dataloader), total_acc/len(train_dataloader)\n",
    "\n",
    "def eval_classifier_epoch(model, val_dataloader, criterion, device):\n",
    "    model.eval()\n",
    "    losses = 0\n",
    "    iter = 0\n",
    "    total_acc = 0\n",
    "    with torch.no_grad():\n",
    "        for batch in tqdm(val_dataloader,desc=\"Validation\"):\n",
    "            batch = tuple(t.to(device) for t in batch)\n",
    "            input_data,labels,_,_ = batch\n",
    "            logits,_ = model(input_data)\n",
    " \n",
    "            _,preds = torch.max(logits, dim=1)\n",
    "            val_acc = accuracy_score(labels.cpu().detach().numpy(), preds.cpu().detach().numpy())\n",
    "            total_acc += val_acc\n",
    "            loss = criterion(logits, labels) \n",
    "            losses += loss.item()\n",
    "            iter += 1\n",
    "            if iter % 500 == 0:\n",
    "                print(\"Iteration: {}, Validation Loss: {}\".format(iter, loss.item()))\n",
    "    return losses/len(val_dataloader), total_acc/len(val_dataloader)\n",
    "\n",
    "def train_classifier(model, train_dataloader, val_dataloader, optimizer, criterion, device, epochs=10):\n",
    "\n",
    "    losses = {'epoch': [], 'train_loss': [], 'valid_loss': []}\n",
    "    acc = {'epoch': [], 'train_acc': [], 'valid_acc': []}\n",
    "    min_valid_loss = float('inf')\n",
    "    for epoch in range(epochs):\n",
    "        print(\"Epoch: {}\".format(epoch))\n",
    "\n",
    "        train_loss,train_acc = train_classifier_epoch(model, train_dataloader, optimizer, criterion, device)\n",
    "        val_loss,val_acc = eval_classifier_epoch(model, val_dataloader, criterion, device)\n",
    "        if val_loss < min_valid_loss:\n",
    "            min_valid_loss = val_loss\n",
    "            print(\"Saving model...\")\n",
    "            torch.save(model.state_dict(), 'elmo2_classifier.pt')\n",
    "\n",
    "        print(\"Train Loss: {}, Train Accuracy: {}\".format(train_loss,train_acc))\n",
    "        print(\"Validation Loss: {}, Validation Accuracy: {}\".format(val_loss,val_acc))\n",
    "        losses['epoch'].append(epoch)\n",
    "        losses['train_loss'].append(train_loss)\n",
    "        losses['valid_loss'].append(val_loss)\n",
    "        acc['epoch'].append(epoch)\n",
    "        acc['train_acc'].append(train_acc)\n",
    "        acc['valid_acc'].append(val_acc)\n",
    "        \n",
    "    return losses,acc \n",
    "\n",
    "train_losses = train_classifier(classifier, train_dataloader, valid_dataloader, optimizer, criterion, device, epochs=20)\n"
   ]
  },
  {
   "cell_type": "code",
   "execution_count": 25,
   "metadata": {},
   "outputs": [],
   "source": [
    "# save the model\n",
    "torch.save(classifier.state_dict(), 'elmo2_classifier.pt')"
   ]
  },
  {
   "cell_type": "code",
   "execution_count": 22,
   "metadata": {},
   "outputs": [
    {
     "data": {
      "image/png": "[encoded data removed]",
      "text/plain": [
       "<Figure size 640x480 with 1 Axes>"
      ]
     },
     "metadata": {},
     "output_type": "display_data"
    },
    {
     "data": {
      "text/plain": [
       "<Figure size 640x480 with 0 Axes>"
      ]
     },
     "metadata": {},
     "output_type": "display_data"
    }
   ],
   "source": [
    "# Plotting the loss\n",
    "# train_losses = train_losses\n",
    "losses,acc = train_losses\n",
    "plt.plot(losses['epoch'], losses['train_loss'], label='train')\n",
    "plt.plot(losses['epoch'], losses['valid_loss'], label='valid')\n",
    "# mark with circle\n",
    "plt.scatter(losses['epoch'], losses['train_loss'], label='train')\n",
    "plt.scatter(losses['epoch'], losses['valid_loss'], label='valid')\n",
    "plt.title('ELMo Classifier Loss')\n",
    "plt.xlabel('Epoch')\n",
    "plt.ylabel('Loss')\n",
    "plt.legend()\n",
    "plt.show()\n",
    "plt.savefig('elmo1_classifier_loss.png')"
   ]
  },
  {
   "cell_type": "code",
   "execution_count": 23,
   "metadata": {},
   "outputs": [
    {
     "data": {
      "image/png": "[encoded data removed]",
      "text/plain": [
       "<Figure size 640x480 with 1 Axes>"
      ]
     },
     "metadata": {},
     "output_type": "display_data"
    },
    {
     "data": {
      "text/plain": [
       "<Figure size 640x480 with 0 Axes>"
      ]
     },
     "metadata": {},
     "output_type": "display_data"
    }
   ],
   "source": [
    "# Plotting the accuracy\n",
    "plt.plot(acc['epoch'], acc['train_acc'], label='train')\n",
    "plt.plot(acc['epoch'], acc['valid_acc'], label='valid')\n",
    "# mark with circle\n",
    "plt.scatter(acc['epoch'], acc['train_acc'], label='train')\n",
    "plt.scatter(acc['epoch'], acc['valid_acc'], label='valid')\n",
    "plt.title('ELMo Classifier Accuracy')\n",
    "plt.xlabel('Epoch')\n",
    "plt.ylabel('Accuracy')\n",
    "plt.legend()\n",
    "plt.show()\n",
    "plt.savefig('elmo1_classifier_acc.png')\n"
   ]
  },
  {
   "cell_type": "code",
   "execution_count": 27,
   "metadata": {},
   "outputs": [
    {
     "name": "stderr",
     "output_type": "stream",
     "text": [
      "Testing: 100%|██████████| 615/615 [00:11<00:00, 51.64it/s]"
     ]
    },
    {
     "name": "stdout",
     "output_type": "stream",
     "text": [
      "              precision    recall  f1-score   support\n",
      "\n",
      "    negative       0.48      0.57      0.52      3463\n",
      "     neutral       0.47      0.38      0.42      3129\n",
      "    positive       0.54      0.53      0.54      3240\n",
      "\n",
      "    accuracy                           0.50      9832\n",
      "   macro avg       0.50      0.50      0.49      9832\n",
      "weighted avg       0.50      0.50      0.50      9832\n",
      "\n",
      "Accuracy: 0.49857607811228644\n",
      "Confusion Matrix: \n",
      "[[1976.  771.  716.]\n",
      " [1166. 1200.  763.]\n",
      " [ 941.  573. 1726.]]\n"
     ]
    },
    {
     "name": "stderr",
     "output_type": "stream",
     "text": [
      "\n"
     ]
    }
   ],
   "source": [
    "from sklearn.metrics import classification_report, accuracy_score, confusion_matrix, f1_score, precision_score, recall_score\n",
    "import numpy as np\n",
    "classifier.load_state_dict(torch.load('elmo2_classifier.pt'))\n",
    "classifier.eval()\n",
    "y_true = []\n",
    "y_pred = []\n",
    "confusion_matrix = np.zeros((3,3))\n",
    "\n",
    "with torch.no_grad():\n",
    "    for batch in tqdm(test_dataloader,desc=\"Testing\"):\n",
    "        batch = tuple(t.to(device) for t in batch)\n",
    "        input_data,labels,_,_ = batch\n",
    "        logits,_ = classifier(input_data)\n",
    "        _,preds = torch.max(logits, dim=1)\n",
    "        y_true.extend(labels.cpu().detach().numpy())\n",
    "        y_pred.extend(preds.cpu().detach().numpy())\n",
    "        for i in range(len(labels)):\n",
    "            confusion_matrix[labels[i]][preds[i]] += 1\n",
    "\n",
    "print(classification_report(y_true, y_pred, target_names=['negative','neutral','positive'],zero_division=1))\n",
    "print(\"Accuracy: {}\".format(accuracy_score(y_true, y_pred)))\n",
    "# print(\"F1 Score: {}\".format(f1_score(y_true, y_pred),average='micro'))\n",
    "# print(\"Precision: {}\".format(precision_score(y_true, y_pred),average='micro'))\n",
    "# print(\"Recall: {}\".format(recall_score(y_true, y_pred),average='micro'))\n",
    "print(\"Confusion Matrix: \")\n",
    "print(confusion_matrix)"
   ]
  },
  {
   "cell_type": "code",
   "execution_count": 30,
   "metadata": {},
   "outputs": [
    {
     "data": {
      "image/png": "[encoded data removed]",
      "text/plain": [
       "<Figure size 640x480 with 2 Axes>"
      ]
     },
     "metadata": {},
     "output_type": "display_data"
    }
   ],
   "source": [
    "import seaborn as sns\n",
    "cmap = sns.light_palette(\"green\", as_cmap=True)\n",
    "sns.heatmap(confusion_matrix, cmap=cmap, annot=True, fmt=\"g\")\n",
    "plt.xlabel(\"Predicted label\")\n",
    "plt.ylabel(\"True label\")\n",
    "plt.show()\n"
   ]
  },
  {
   "cell_type": "code",
   "execution_count": null,
   "metadata": {},
   "outputs": [],
   "source": [
    "import numpy as np\n",
    "import matplotlib.pyplot as plt\n",
    "from sklearn.metrics import roc_curve, auc\n",
    "\n",
    "# assume y_true and y_scores are your true labels and predicted scores, respectively\n",
    "fpr, tpr, thresholds = roc_curve(y_true, y_pred)\n",
    "roc_auc = auc(fpr, tpr)\n",
    "\n",
    "# plot the ROC curve\n",
    "plt.figure(figsize=(8, 6))\n",
    "plt.plot(fpr, tpr, color='darkorange', lw=2,\n",
    "         label='ROC curve (area = %0.2f)' % roc_auc)\n",
    "plt.plot([0, 1], [0, 1], color='navy', lw=2, linestyle='--')\n",
    "plt.xlim([0.0, 1.0])\n",
    "plt.ylim([0.0, 1.05])\n",
    "plt.xlabel('False Positive Rate')\n",
    "plt.ylabel('True Positive Rate')\n",
    "plt.title('Receiver Operating Characteristic (ROC)')\n",
    "plt.legend(loc=\"lower right\")\n",
    "plt.show()\n"
   ]
  },
  {
   "cell_type": "code",
   "execution_count": 29,
   "metadata": {},
   "outputs": [
    {
     "name": "stderr",
     "output_type": "stream",
     "text": [
      "Testing: 100%|██████████| 1577/1577 [00:50<00:00, 31.00it/s]\n"
     ]
    },
    {
     "name": "stdout",
     "output_type": "stream",
     "text": [
      "              precision    recall  f1-score   support\n",
      "\n",
      "    negative       0.78      0.87      0.82      8565\n",
      "     neutral       0.85      0.77      0.81      7525\n",
      "    positive       0.85      0.83      0.84      9134\n",
      "\n",
      "    accuracy                           0.82     25224\n",
      "   macro avg       0.83      0.82      0.82     25224\n",
      "weighted avg       0.83      0.82      0.82     25224\n",
      "\n",
      "Accuracy: 0.8242150333016175\n",
      "Confusion Matrix: \n",
      "[[7418.  550.  597.]\n",
      " [ 990. 5784.  751.]\n",
      " [1057.  489. 7588.]]\n"
     ]
    }
   ],
   "source": [
    "classifier.eval()\n",
    "y_true = []\n",
    "y_pred = []\n",
    "confusion_matrix = np.zeros((3, 3))\n",
    "\n",
    "with torch.no_grad():\n",
    "    for batch in tqdm(train_dataloader, desc=\"Testing\"):\n",
    "        batch = tuple(t.to(device) for t in batch)\n",
    "        input_data, labels, _, _ = batch\n",
    "        logits, _ = classifier(input_data)\n",
    "        _, preds = torch.max(logits, dim=1)\n",
    "        y_true.extend(labels.cpu().detach().numpy())\n",
    "        y_pred.extend(preds.cpu().detach().numpy())\n",
    "        for i in range(len(labels)):\n",
    "            confusion_matrix[labels[i]][preds[i]] += 1\n",
    "\n",
    "print(classification_report(y_true, y_pred, target_names=['negative', 'neutral', 'positive'], zero_division=1))\n",
    "print(\"Accuracy: {}\".format(accuracy_score(y_true, y_pred)))\n",
    "# print(\"F1 Score: {}\".format(f1_score(y_true, y_pred)))\n",
    "# print(\"Precision: {}\".format(precision_score(y_true, y_pred)))\n",
    "# print(\"Recall: {}\".format(recall_score(y_true, y_pred)))\n",
    "print(\"Confusion Matrix: \")\n",
    "print(confusion_matrix)\n"
   ]
  },
  {
   "cell_type": "code",
   "execution_count": 152,
   "metadata": {},
   "outputs": [
    {
     "data": {
      "image/png": "[encoded data removed]",
      "text/plain": [
       "<Figure size 800x600 with 1 Axes>"
      ]
     },
     "metadata": {},
     "output_type": "display_data"
    }
   ],
   "source": [
    "import numpy as np\n",
    "import matplotlib.pyplot as plt\n",
    "from sklearn.metrics import roc_curve, auc\n",
    "\n",
    "# assume y_true and y_scores are your true labels and predicted scores, respectively\n",
    "fpr, tpr, thresholds = roc_curve(y_true, y_pred)\n",
    "roc_auc = auc(fpr, tpr)\n",
    "\n",
    "# plot the ROC curve\n",
    "plt.figure(figsize=(8, 6))\n",
    "plt.plot(fpr, tpr, color='darkorange', lw=2,\n",
    "         label='ROC curve (area = %0.2f)' % roc_auc)\n",
    "plt.plot([0, 1], [0, 1], color='navy', lw=2, linestyle='--')\n",
    "plt.xlim([0.0, 1.0])\n",
    "plt.ylim([0.0, 1.05])\n",
    "plt.xlabel('False Positive Rate')\n",
    "plt.ylabel('True Positive Rate')\n",
    "plt.title('Receiver Operating Characteristic (ROC)')\n",
    "plt.legend(loc=\"lower right\")\n",
    "plt.show()\n"
   ]
  }
 ],
 "metadata": {
  "kernelspec": {
   "display_name": "Python 3",
   "language": "python",
   "name": "python3"
  },
  "language_info": {
   "codemirror_mode": {
    "name": "ipython",
    "version": 3
   },
   "file_extension": ".py",
   "mimetype": "text/x-python",
   "name": "python",
   "nbconvert_exporter": "python",
   "pygments_lexer": "ipython3",
   "version": "3.10.9"
  },
  "orig_nbformat": 4
 },
 "nbformat": 4,
 "nbformat_minor": 2
}
